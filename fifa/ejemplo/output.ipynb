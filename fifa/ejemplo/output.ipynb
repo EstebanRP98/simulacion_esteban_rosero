{
 "cells": [
  {
   "cell_type": "code",
   "execution_count": 1,
   "id": "1811475c",
   "metadata": {
    "execution": {
     "iopub.execute_input": "2021-05-23T17:31:55.057827Z",
     "iopub.status.busy": "2021-05-23T17:31:55.056785Z",
     "iopub.status.idle": "2021-05-23T17:31:55.070725Z",
     "shell.execute_reply": "2021-05-23T17:31:55.070725Z"
    },
    "papermill": {
     "duration": 0.038939,
     "end_time": "2021-05-23T17:31:55.070725",
     "exception": false,
     "start_time": "2021-05-23T17:31:55.031786",
     "status": "completed"
    },
    "tags": [
     "injected-parameters"
    ]
   },
   "outputs": [],
   "source": [
    "# Parameters\n",
    "a = \"3\"\n",
    "b = \"5\"\n"
   ]
  },
  {
   "cell_type": "code",
   "execution_count": 2,
   "id": "db9529f7",
   "metadata": {
    "execution": {
     "iopub.execute_input": "2021-05-23T17:31:55.106468Z",
     "iopub.status.busy": "2021-05-23T17:31:55.101836Z",
     "iopub.status.idle": "2021-05-23T17:31:55.129445Z",
     "shell.execute_reply": "2021-05-23T17:31:55.129445Z"
    },
    "papermill": {
     "duration": 0.044609,
     "end_time": "2021-05-23T17:31:55.129445",
     "exception": false,
     "start_time": "2021-05-23T17:31:55.084836",
     "status": "completed"
    },
    "tags": []
   },
   "outputs": [
    {
     "name": "stdout",
     "output_type": "stream",
     "text": [
      "8\n"
     ]
    }
   ],
   "source": [
    "suma=int(a)+int(b)\n",
    "print(suma)"
   ]
  },
  {
   "cell_type": "code",
   "execution_count": null,
   "id": "dca9f2dc",
   "metadata": {
    "papermill": {
     "duration": 0.009645,
     "end_time": "2021-05-23T17:31:55.155056",
     "exception": false,
     "start_time": "2021-05-23T17:31:55.145411",
     "status": "completed"
    },
    "tags": []
   },
   "outputs": [],
   "source": []
  }
 ],
 "metadata": {
  "celltoolbar": "Tags",
  "kernelspec": {
   "display_name": "Python 3",
   "language": "python",
   "name": "python3"
  },
  "language_info": {
   "codemirror_mode": {
    "name": "ipython",
    "version": 3
   },
   "file_extension": ".py",
   "mimetype": "text/x-python",
   "name": "python",
   "nbconvert_exporter": "python",
   "pygments_lexer": "ipython3",
   "version": "3.8.5"
  },
  "papermill": {
   "default_parameters": {},
   "duration": 4.260944,
   "end_time": "2021-05-23T17:31:55.608993",
   "environment_variables": {},
   "exception": null,
   "input_path": "Untitled.ipynb",
   "output_path": "output.ipynb",
   "parameters": {
    "a": "3",
    "b": "5"
   },
   "start_time": "2021-05-23T17:31:51.348049",
   "version": "2.3.3"
  }
 },
 "nbformat": 4,
 "nbformat_minor": 5
}