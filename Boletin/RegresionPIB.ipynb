{
 "cells": [
  {
   "cell_type": "code",
   "execution_count": null,
   "metadata": {},
   "outputs": [],
   "source": [
    "<img src=C:/Users/david/Documents/Deberes/Boletin/>"
   ]
  },
  {
   "cell_type": "markdown",
   "metadata": {},
   "source": [
    "# Regresion PIB\n",
    "\n",
    "<h2>Nombre: Esteban David Rosero Perez</h2>"
   ]
  },
  {
   "cell_type": "markdown",
   "metadata": {},
   "source": [
    "# Introduccion\n",
    "El producto interior bruto (PIB) es un indicador económico que refleja el valor monetario de todos los bienes y servicios finales producidos por un país o región en un determinado periodo de tiempo, normalmente un año. Se utiliza para medir la riqueza que genera un país. También se conoce como producto bruto interno (PBI)."
   ]
  },
  {
   "cell_type": "markdown",
   "metadata": {},
   "source": [
    "# Importamos las librerias"
   ]
  },
  {
   "cell_type": "code",
   "execution_count": 13,
   "metadata": {},
   "outputs": [],
   "source": [
    "import pandas as pd\n",
    "import numpy as np\n",
    "import matplotlib.pyplot as plt"
   ]
  },
  {
   "cell_type": "markdown",
   "metadata": {},
   "source": [
    "# Leemos la informacion"
   ]
  },
  {
   "cell_type": "code",
   "execution_count": 47,
   "metadata": {},
   "outputs": [],
   "source": [
    "df=pd.read_csv('PIBEcu.csv', sep = ';')"
   ]
  },
  {
   "cell_type": "code",
   "execution_count": 48,
   "metadata": {},
   "outputs": [
    {
     "data": {
      "text/html": [
       "<div>\n",
       "<style scoped>\n",
       "    .dataframe tbody tr th:only-of-type {\n",
       "        vertical-align: middle;\n",
       "    }\n",
       "\n",
       "    .dataframe tbody tr th {\n",
       "        vertical-align: top;\n",
       "    }\n",
       "\n",
       "    .dataframe thead th {\n",
       "        text-align: right;\n",
       "    }\n",
       "</style>\n",
       "<table border=\"1\" class=\"dataframe\">\n",
       "  <thead>\n",
       "    <tr style=\"text-align: right;\">\n",
       "      <th></th>\n",
       "      <th>Country_Name</th>\n",
       "      <th>Country_Code</th>\n",
       "      <th>Year</th>\n",
       "      <th>PIB</th>\n",
       "    </tr>\n",
       "  </thead>\n",
       "  <tbody>\n",
       "    <tr>\n",
       "      <th>0</th>\n",
       "      <td>Ecuador</td>\n",
       "      <td>ECU</td>\n",
       "      <td>1960</td>\n",
       "      <td>9.547575</td>\n",
       "    </tr>\n",
       "    <tr>\n",
       "      <th>1</th>\n",
       "      <td>Ecuador</td>\n",
       "      <td>ECU</td>\n",
       "      <td>1961</td>\n",
       "      <td>8.957493</td>\n",
       "    </tr>\n",
       "    <tr>\n",
       "      <th>2</th>\n",
       "      <td>Ecuador</td>\n",
       "      <td>ECU</td>\n",
       "      <td>1962</td>\n",
       "      <td>10.241499</td>\n",
       "    </tr>\n",
       "    <tr>\n",
       "      <th>3</th>\n",
       "      <td>Ecuador</td>\n",
       "      <td>ECU</td>\n",
       "      <td>1963</td>\n",
       "      <td>9.233322</td>\n",
       "    </tr>\n",
       "    <tr>\n",
       "      <th>4</th>\n",
       "      <td>Ecuador</td>\n",
       "      <td>ECU</td>\n",
       "      <td>1964</td>\n",
       "      <td>8.900054</td>\n",
       "    </tr>\n",
       "  </tbody>\n",
       "</table>\n",
       "</div>"
      ],
      "text/plain": [
       "  Country_Name Country_Code  Year        PIB\n",
       "0      Ecuador          ECU  1960   9.547575\n",
       "1      Ecuador          ECU  1961   8.957493\n",
       "2      Ecuador          ECU  1962  10.241499\n",
       "3      Ecuador          ECU  1963   9.233322\n",
       "4      Ecuador          ECU  1964   8.900054"
      ]
     },
     "execution_count": 48,
     "metadata": {},
     "output_type": "execute_result"
    }
   ],
   "source": [
    "df.head()"
   ]
  },
  {
   "cell_type": "markdown",
   "metadata": {},
   "source": [
    "Graficamos el PIB por año en el ecuador para tener un analisis de como ha ido evolucionando en la economia del pais. Recordemos que esto se puede influenciar por cada presidente que estuvo en aquellos años y la gestion economica que tuvo en el Pais, es un marcador que refleja la situacion actual en ese año del pais"
   ]
  },
  {
   "cell_type": "code",
   "execution_count": 49,
   "metadata": {},
   "outputs": [
    {
     "data": {
      "image/png": "[encoded data removed]",
      "text/plain": [
       "<Figure size 432x288 with 1 Axes>"
      ]
     },
     "metadata": {
      "needs_background": "light"
     },
     "output_type": "display_data"
    }
   ],
   "source": [
    "df.plot(x='Year', y='PIB', style='o')\n",
    "plt.title('PIB por Año')\n",
    "plt.xlabel('year')\n",
    "plt.ylabel('pib')\n",
    "plt.show()"
   ]
  },
  {
   "cell_type": "markdown",
   "metadata": {},
   "source": [
    "# Modelos de Regresion\n",
    "Primero procedemos a obtener los datos de entrada y salida, para los datos de entrada vamos a ocupar los valores del año, para los datos de salida vamos a ocupar los valores del PIB"
   ]
  },
  {
   "cell_type": "code",
   "execution_count": 50,
   "metadata": {},
   "outputs": [],
   "source": [
    "x = df.iloc[:, 2].values.reshape(-1,1)\n",
    "y = df.iloc[:, 3].values.reshape(-1,1)"
   ]
  },
  {
   "cell_type": "markdown",
   "metadata": {},
   "source": [
    "<h3>Regresion Lineal</h3>"
   ]
  },
  {
   "cell_type": "code",
   "execution_count": 51,
   "metadata": {},
   "outputs": [],
   "source": [
    "from sklearn.model_selection import train_test_split\n",
    "X_train, X_test, y_train, y_test = train_test_split(x, y, test_size=0.2, random_state=0)"
   ]
  },
  {
   "cell_type": "code",
   "execution_count": 52,
   "metadata": {},
   "outputs": [
    {
     "data": {
      "text/plain": [
       "LinearRegression()"
      ]
     },
     "execution_count": 52,
     "metadata": {},
     "output_type": "execute_result"
    }
   ],
   "source": [
    "from sklearn.linear_model import LinearRegression\n",
    "regressor = LinearRegression()\n",
    "regressor.fit(X_train, y_train)"
   ]
  },
  {
   "cell_type": "code",
   "execution_count": 53,
   "metadata": {},
   "outputs": [],
   "source": [
    "y_pred = regressor.predict(X_test)"
   ]
  },
  {
   "cell_type": "code",
   "execution_count": 54,
   "metadata": {},
   "outputs": [
    {
     "data": {
      "text/html": [
       "<div>\n",
       "<style scoped>\n",
       "    .dataframe tbody tr th:only-of-type {\n",
       "        vertical-align: middle;\n",
       "    }\n",
       "\n",
       "    .dataframe tbody tr th {\n",
       "        vertical-align: top;\n",
       "    }\n",
       "\n",
       "    .dataframe thead th {\n",
       "        text-align: right;\n",
       "    }\n",
       "</style>\n",
       "<table border=\"1\" class=\"dataframe\">\n",
       "  <thead>\n",
       "    <tr style=\"text-align: right;\">\n",
       "      <th></th>\n",
       "      <th>Actual</th>\n",
       "      <th>Predicted</th>\n",
       "    </tr>\n",
       "  </thead>\n",
       "  <tbody>\n",
       "    <tr>\n",
       "      <th>0</th>\n",
       "      <td>15.629403</td>\n",
       "      <td>18.599230</td>\n",
       "    </tr>\n",
       "    <tr>\n",
       "      <th>1</th>\n",
       "      <td>21.286903</td>\n",
       "      <td>21.650356</td>\n",
       "    </tr>\n",
       "    <tr>\n",
       "      <th>2</th>\n",
       "      <td>23.390040</td>\n",
       "      <td>29.786692</td>\n",
       "    </tr>\n",
       "    <tr>\n",
       "      <th>3</th>\n",
       "      <td>19.005851</td>\n",
       "      <td>19.277258</td>\n",
       "    </tr>\n",
       "    <tr>\n",
       "      <th>4</th>\n",
       "      <td>10.580406</td>\n",
       "      <td>13.514020</td>\n",
       "    </tr>\n",
       "    <tr>\n",
       "      <th>5</th>\n",
       "      <td>10.241499</td>\n",
       "      <td>10.462894</td>\n",
       "    </tr>\n",
       "    <tr>\n",
       "      <th>6</th>\n",
       "      <td>20.279818</td>\n",
       "      <td>21.311342</td>\n",
       "    </tr>\n",
       "    <tr>\n",
       "      <th>7</th>\n",
       "      <td>22.604684</td>\n",
       "      <td>29.447678</td>\n",
       "    </tr>\n",
       "    <tr>\n",
       "      <th>8</th>\n",
       "      <td>32.127535</td>\n",
       "      <td>23.345426</td>\n",
       "    </tr>\n",
       "    <tr>\n",
       "      <th>9</th>\n",
       "      <td>14.656491</td>\n",
       "      <td>17.243174</td>\n",
       "    </tr>\n",
       "    <tr>\n",
       "      <th>10</th>\n",
       "      <td>8.900054</td>\n",
       "      <td>11.140922</td>\n",
       "    </tr>\n",
       "    <tr>\n",
       "      <th>11</th>\n",
       "      <td>9.441228</td>\n",
       "      <td>13.175006</td>\n",
       "    </tr>\n",
       "  </tbody>\n",
       "</table>\n",
       "</div>"
      ],
      "text/plain": [
       "       Actual  Predicted\n",
       "0   15.629403  18.599230\n",
       "1   21.286903  21.650356\n",
       "2   23.390040  29.786692\n",
       "3   19.005851  19.277258\n",
       "4   10.580406  13.514020\n",
       "5   10.241499  10.462894\n",
       "6   20.279818  21.311342\n",
       "7   22.604684  29.447678\n",
       "8   32.127535  23.345426\n",
       "9   14.656491  17.243174\n",
       "10   8.900054  11.140922\n",
       "11   9.441228  13.175006"
      ]
     },
     "execution_count": 54,
     "metadata": {},
     "output_type": "execute_result"
    }
   ],
   "source": [
    "dfpredic = pd.DataFrame({'Actual': y_test.flatten(), 'Predicted': y_pred.flatten()})\n",
    "dfpredic"
   ]
  },
  {
   "cell_type": "code",
   "execution_count": 55,
   "metadata": {},
   "outputs": [
    {
     "name": "stdout",
     "output_type": "stream",
     "text": [
      "Mean Absolute Error: 3.197858455287695\n",
      "Mean Squared Error: 17.438954844060294\n",
      "Root Mean Squared Error: 4.175997466960474\n"
     ]
    }
   ],
   "source": [
    "from sklearn import metrics\n",
    "print('Mean Absolute Error:', metrics.mean_absolute_error(y_test, y_pred))\n",
    "print('Mean Squared Error:', metrics.mean_squared_error(y_test, y_pred))\n",
    "print('Root Mean Squared Error:', np.sqrt(metrics.mean_squared_error(y_test, y_pred)))"
   ]
  },
  {
   "cell_type": "code",
   "execution_count": 57,
   "metadata": {},
   "outputs": [
    {
     "data": {
      "image/png": "[encoded data removed]",
      "text/plain": [
       "<Figure size 1080x360 with 1 Axes>"
      ]
     },
     "metadata": {
      "needs_background": "light"
     },
     "output_type": "display_data"
    }
   ],
   "source": [
    "plt.figure(figsize = (15,5))\n",
    "\n",
    "x = df.iloc[:, 2].values.reshape(-1,1)\n",
    "y = df.iloc[:, 3].values.reshape(-1,1)\n",
    "\n",
    "plt.plot(x, y, label ='Valores reales')\n",
    "plt.plot(x, regressor.predict(x), '-', label = 'Predicción', linewidth = 3)\n",
    "\n",
    "plt.title('Regresión Lineal') \n",
    "plt.xlabel('Año')\n",
    "plt.ylabel('PIB')\n",
    "plt.legend(loc=\"upper left\") \n",
    "\n",
    "plt.show()"
   ]
  },
  {
   "cell_type": "markdown",
   "metadata": {},
   "source": [
    "<h3>Regresion Random Forest</h3>"
   ]
  },
  {
   "cell_type": "code",
   "execution_count": 62,
   "metadata": {},
   "outputs": [
    {
     "data": {
      "text/html": [
       "<div>\n",
       "<style scoped>\n",
       "    .dataframe tbody tr th:only-of-type {\n",
       "        vertical-align: middle;\n",
       "    }\n",
       "\n",
       "    .dataframe tbody tr th {\n",
       "        vertical-align: top;\n",
       "    }\n",
       "\n",
       "    .dataframe thead th {\n",
       "        text-align: right;\n",
       "    }\n",
       "</style>\n",
       "<table border=\"1\" class=\"dataframe\">\n",
       "  <thead>\n",
       "    <tr style=\"text-align: right;\">\n",
       "      <th></th>\n",
       "      <th>Actual</th>\n",
       "      <th>Predicted</th>\n",
       "    </tr>\n",
       "  </thead>\n",
       "  <tbody>\n",
       "    <tr>\n",
       "      <th>0</th>\n",
       "      <td>15.629403</td>\n",
       "      <td>18.175644</td>\n",
       "    </tr>\n",
       "    <tr>\n",
       "      <th>1</th>\n",
       "      <td>21.286903</td>\n",
       "      <td>21.378307</td>\n",
       "    </tr>\n",
       "    <tr>\n",
       "      <th>2</th>\n",
       "      <td>23.390040</td>\n",
       "      <td>21.464459</td>\n",
       "    </tr>\n",
       "    <tr>\n",
       "      <th>3</th>\n",
       "      <td>19.005851</td>\n",
       "      <td>18.320833</td>\n",
       "    </tr>\n",
       "    <tr>\n",
       "      <th>4</th>\n",
       "      <td>10.580406</td>\n",
       "      <td>13.041829</td>\n",
       "    </tr>\n",
       "    <tr>\n",
       "      <th>5</th>\n",
       "      <td>10.241499</td>\n",
       "      <td>9.014875</td>\n",
       "    </tr>\n",
       "    <tr>\n",
       "      <th>6</th>\n",
       "      <td>20.279818</td>\n",
       "      <td>20.669375</td>\n",
       "    </tr>\n",
       "    <tr>\n",
       "      <th>7</th>\n",
       "      <td>22.604684</td>\n",
       "      <td>21.464459</td>\n",
       "    </tr>\n",
       "    <tr>\n",
       "      <th>8</th>\n",
       "      <td>32.127535</td>\n",
       "      <td>26.062062</td>\n",
       "    </tr>\n",
       "    <tr>\n",
       "      <th>9</th>\n",
       "      <td>14.656491</td>\n",
       "      <td>15.059218</td>\n",
       "    </tr>\n",
       "    <tr>\n",
       "      <th>10</th>\n",
       "      <td>8.900054</td>\n",
       "      <td>9.131856</td>\n",
       "    </tr>\n",
       "    <tr>\n",
       "      <th>11</th>\n",
       "      <td>9.441228</td>\n",
       "      <td>9.932980</td>\n",
       "    </tr>\n",
       "  </tbody>\n",
       "</table>\n",
       "</div>"
      ],
      "text/plain": [
       "       Actual  Predicted\n",
       "0   15.629403  18.175644\n",
       "1   21.286903  21.378307\n",
       "2   23.390040  21.464459\n",
       "3   19.005851  18.320833\n",
       "4   10.580406  13.041829\n",
       "5   10.241499   9.014875\n",
       "6   20.279818  20.669375\n",
       "7   22.604684  21.464459\n",
       "8   32.127535  26.062062\n",
       "9   14.656491  15.059218\n",
       "10   8.900054   9.131856\n",
       "11   9.441228   9.932980"
      ]
     },
     "execution_count": 62,
     "metadata": {},
     "output_type": "execute_result"
    }
   ],
   "source": [
    "from sklearn.ensemble import RandomForestRegressor\n",
    "from sklearn.model_selection import train_test_split \n",
    "\n",
    "X_trainr, X_testr, y_trainr, y_testr = train_test_split(x, y, test_size=0.2, random_state=0)\n",
    "\n",
    "modeloRandom = RandomForestRegressor(n_estimators=10, random_state=0)\n",
    "modeloRandom.fit(X_trainr, y_trainr.ravel())\n",
    "\n",
    "y_predrandom = modeloRandom.predict(X_testr)\n",
    "dfrandom = pd.DataFrame({'Actual': y_testr.flatten(), 'Predicted': y_predrandom.flatten()}) \n",
    "dfrandom"
   ]
  },
  {
   "cell_type": "code",
   "execution_count": 63,
   "metadata": {},
   "outputs": [
    {
     "name": "stdout",
     "output_type": "stream",
     "text": [
      "Mean Absolute Error: 1.4714854646166664\n",
      "Mean Squared Error: 4.74429897599236\n",
      "Root Mean Squared Error: 2.1781411744862544\n"
     ]
    }
   ],
   "source": [
    "print('Mean Absolute Error:', metrics.mean_absolute_error(y_testr, y_predrandom))\n",
    "print('Mean Squared Error:', metrics.mean_squared_error(y_testr, y_predrandom))\n",
    "print('Root Mean Squared Error:', np.sqrt(metrics.mean_squared_error(y_testr, y_predrandom)))"
   ]
  },
  {
   "cell_type": "code",
   "execution_count": 64,
   "metadata": {},
   "outputs": [
    {
     "data": {
      "image/png": "[encoded data removed]",
      "text/plain": [
       "<Figure size 1080x360 with 1 Axes>"
      ]
     },
     "metadata": {
      "needs_background": "light"
     },
     "output_type": "display_data"
    }
   ],
   "source": [
    "plt.figure(figsize = (15,5))\n",
    "\n",
    "x = df.iloc[:, 2].values.reshape(-1,1)\n",
    "y = df.iloc[:, 3].values.reshape(-1,1)\n",
    "\n",
    "plt.plot(x, y, label ='Valores reales')\n",
    "plt.plot(x, modeloRandom.predict(x), '-', label = 'Predicción', linewidth = 3)\n",
    "\n",
    "plt.title('Random Forest') \n",
    "plt.xlabel('Año')\n",
    "plt.ylabel('PIB')\n",
    "plt.legend(loc=\"upper left\") \n",
    "\n",
    "plt.show()"
   ]
  },
  {
   "cell_type": "markdown",
   "metadata": {},
   "source": [
    "# Resultados\n",
    "Como podemos observar los niveles de prediccion en el modelo de regresion tienen un margen de error muy amplio, obtenemos como resultado que el error cuadratico medio es de 17, los años que mayor se ven afectados en la prediccion del modelo de regresion, podemos ver que su rango varia desde el año 2000 al 2020. Por otro lado el modelo de Random Forest obtenemos como resultado de que el error cuadratico medio es de 4, como tambien podemos ver en la grafica que los valores reales son muy parecidos a los de la prediccion."
   ]
  },
  {
   "cell_type": "markdown",
   "metadata": {},
   "source": [
    "# Opinion\n",
    "Para realizar un analisis de datos el modelo de random forest nos entrega mejores resultados con un margen de error pequeño en comparacion con los otros modelos de regresion, por lo que para este proyecto en analisis previos se recomendaria utilizar el modelo de random forest, siendo una opcion rapida para obtener resultados optimos."
   ]
  },
  {
   "cell_type": "markdown",
   "metadata": {},
   "source": [
    "# Conclusiones\n",
    "Los modelos de regresion son modelos matematicos que buscan una relacion entre la variable de salida con respecto a otras variables que sean ingresadas como variables de entrada, por ello existen varios modelos en los que hemos demostrado su funcion los cuales fueron regresion lineal y random forest, comparandolos en su funcionamiento llegamos a la conclusion de que el modelo de random forest es mejor ya que matematicamente obteniendo el error cuadratico medio nos da como resultado un 4 a comparacion con el 17 que tiene la regresion lineal"
   ]
  }
 ],
 "metadata": {
  "kernelspec": {
   "display_name": "Python 3",
   "language": "python",
   "name": "python3"
  },
  "language_info": {
   "codemirror_mode": {
    "name": "ipython",
    "version": 3
   },
   "file_extension": ".py",
   "mimetype": "text/x-python",
   "name": "python",
   "nbconvert_exporter": "python",
   "pygments_lexer": "ipython3",
   "version": "3.8.5"
  }
 },
 "nbformat": 4,
 "nbformat_minor": 4
}
