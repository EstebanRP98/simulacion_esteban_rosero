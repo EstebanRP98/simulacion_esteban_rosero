{
 "cells": [
  {
   "cell_type": "markdown",
   "metadata": {},
   "source": [
    "## Prueba practica Regresion \n",
    "Nombre: Esteban Rosero\n",
    "\n",
    "En el siguiente trabajo mostraremos, como ha sido la vacunacion en el pais, con relacion a las fechas, como tambien relacionando el fabricante de la vacuna, en el proyecto mmostraremos cuantas vacunas se han colocado, una comparacion con otros paises y tambien, predecimos el dia en el cual podriamos llegar al total de vacunados en el Ecuador"
   ]
  },
  {
   "cell_type": "markdown",
   "metadata": {},
   "source": [
    "# Importamos las librerias"
   ]
  },
  {
   "cell_type": "code",
   "execution_count": 2,
   "metadata": {},
   "outputs": [],
   "source": [
    "import pandas as pd\n",
    "import numpy as np\n",
    "import matplotlib.pylab as plt"
   ]
  },
  {
   "cell_type": "markdown",
   "metadata": {},
   "source": [
    "En este paso procedemos ha parametrizar las fechas en las cuales ostraran las graficas con relacion a los vacunados, los fabricantes y la cantidad de vacunas"
   ]
  },
  {
   "cell_type": "code",
   "execution_count": 6,
   "metadata": {
    "tags": [
     "injected-parameters"
    ]
   },
   "outputs": [],
   "source": [
    "# Parameters\n",
    "fecha_inicio=''\n",
    "fecha_fin=''"
   ]
  },
  {
   "cell_type": "markdown",
   "metadata": {},
   "source": [
    "# Parte 1 Generar graficas y reportes del total de personas  vacunadas.\n",
    "En el primer punto nosotros hacemos una recoleccion dentro del dataset, con relacion al rango de fechas ingresados anteriormente, en esta nos muestra la fecha, la cantidad total de vacunas, y la cantidad de personas que se han colocado la primera dosis y la segunda dosis, en la grafica se puede ver como ha ido creciendo el numero de vacunados en el Ecuador."
   ]
  },
  {
   "cell_type": "code",
   "execution_count": 7,
   "metadata": {},
   "outputs": [
    {
     "data": {
      "text/html": [
       "<div>\n",
       "<style scoped>\n",
       "    .dataframe tbody tr th:only-of-type {\n",
       "        vertical-align: middle;\n",
       "    }\n",
       "\n",
       "    .dataframe tbody tr th {\n",
       "        vertical-align: top;\n",
       "    }\n",
       "\n",
       "    .dataframe thead th {\n",
       "        text-align: right;\n",
       "    }\n",
       "</style>\n",
       "<table border=\"1\" class=\"dataframe\">\n",
       "  <thead>\n",
       "    <tr style=\"text-align: right;\">\n",
       "      <th></th>\n",
       "      <th>fecha</th>\n",
       "      <th>dosis_total</th>\n",
       "      <th>primera_dosis</th>\n",
       "      <th>segunda_dosis</th>\n",
       "    </tr>\n",
       "  </thead>\n",
       "  <tbody>\n",
       "  </tbody>\n",
       "</table>\n",
       "</div>"
      ],
      "text/plain": [
       "Empty DataFrame\n",
       "Columns: [fecha, dosis_total, primera_dosis, segunda_dosis]\n",
       "Index: []"
      ]
     },
     "execution_count": 7,
     "metadata": {},
     "output_type": "execute_result"
    }
   ],
   "source": [
    "df = pd.read_csv('in/vacunas.csv', sep = ',')\n",
    "df['fecha'] =  pd.to_datetime(df['fecha'], infer_datetime_format=True)\n",
    "df=df.loc[(df['fecha'] >= fecha_inicio) & (df['fecha'] <= fecha_fin)]\n",
    "df.head()"
   ]
  },
  {
   "cell_type": "code",
   "execution_count": 8,
   "metadata": {},
   "outputs": [],
   "source": [
    "date = df['fecha'].tolist()\n",
    "vacunados=df['dosis_total'].tolist()"
   ]
  },
  {
   "cell_type": "code",
   "execution_count": 155,
   "metadata": {},
   "outputs": [
    {
     "data": {
      "image/png": "[encoded data removed]",
      "text/plain": [
       "<Figure size 432x288 with 1 Axes>"
      ]
     },
     "metadata": {
      "needs_background": "light"
     },
     "output_type": "display_data"
    }
   ],
   "source": [
    "plt.plot(date, vacunados)\n",
    "plt.title('Histograma de Vacunados ')\n",
    "plt.xlabel('fecha')\n",
    "plt.ylabel('vacunados')\n",
    "plt.xticks(rotation=60)\n",
    "plt.show()"
   ]
  },
  {
   "cell_type": "markdown",
   "metadata": {},
   "source": [
    "# Parte 2 Generar grafico de pie por fabricante de la vacuna\n",
    "En esta parte del proyecto se puede observar la cantidad de fabricantes de vacunas contra el Covid que ha ingresado al Ecuador, como podemos ver por el momento solo han ingresado 3, el fabricante con el mayor numero de dosis utilizados en el Ecuador es la Sinovac seguido de la Pfizer."
   ]
  },
  {
   "cell_type": "code",
   "execution_count": 157,
   "metadata": {},
   "outputs": [
    {
     "data": {
      "text/html": [
       "<div>\n",
       "<style scoped>\n",
       "    .dataframe tbody tr th:only-of-type {\n",
       "        vertical-align: middle;\n",
       "    }\n",
       "\n",
       "    .dataframe tbody tr th {\n",
       "        vertical-align: top;\n",
       "    }\n",
       "\n",
       "    .dataframe thead th {\n",
       "        text-align: right;\n",
       "    }\n",
       "</style>\n",
       "<table border=\"1\" class=\"dataframe\">\n",
       "  <thead>\n",
       "    <tr style=\"text-align: right;\">\n",
       "      <th></th>\n",
       "      <th>vaccine</th>\n",
       "      <th>total</th>\n",
       "      <th>arrived_at</th>\n",
       "    </tr>\n",
       "  </thead>\n",
       "  <tbody>\n",
       "    <tr>\n",
       "      <th>0</th>\n",
       "      <td>Pfizer/BioNTech</td>\n",
       "      <td>8190</td>\n",
       "      <td>2021-01-20</td>\n",
       "    </tr>\n",
       "    <tr>\n",
       "      <th>1</th>\n",
       "      <td>Pfizer/BioNTech</td>\n",
       "      <td>16380</td>\n",
       "      <td>2021-02-17</td>\n",
       "    </tr>\n",
       "    <tr>\n",
       "      <th>2</th>\n",
       "      <td>Pfizer/BioNTech</td>\n",
       "      <td>17550</td>\n",
       "      <td>2021-02-24</td>\n",
       "    </tr>\n",
       "    <tr>\n",
       "      <th>3</th>\n",
       "      <td>Pfizer/BioNTech</td>\n",
       "      <td>31590</td>\n",
       "      <td>2021-03-03</td>\n",
       "    </tr>\n",
       "    <tr>\n",
       "      <th>4</th>\n",
       "      <td>Sinovac</td>\n",
       "      <td>20000</td>\n",
       "      <td>2021-03-06</td>\n",
       "    </tr>\n",
       "    <tr>\n",
       "      <th>5</th>\n",
       "      <td>Pfizer/BioNTech</td>\n",
       "      <td>73710</td>\n",
       "      <td>2021-03-10</td>\n",
       "    </tr>\n",
       "    <tr>\n",
       "      <th>6</th>\n",
       "      <td>Oxford/AstraZeneca</td>\n",
       "      <td>84000</td>\n",
       "      <td>2021-03-17</td>\n",
       "    </tr>\n",
       "    <tr>\n",
       "      <th>7</th>\n",
       "      <td>Pfizer/BioNTech</td>\n",
       "      <td>62010</td>\n",
       "      <td>2021-03-17</td>\n",
       "    </tr>\n",
       "    <tr>\n",
       "      <th>8</th>\n",
       "      <td>Pfizer/BioNTech</td>\n",
       "      <td>65520</td>\n",
       "      <td>2021-03-24</td>\n",
       "    </tr>\n",
       "    <tr>\n",
       "      <th>9</th>\n",
       "      <td>Pfizer/BioNTech</td>\n",
       "      <td>66690</td>\n",
       "      <td>2021-03-31</td>\n",
       "    </tr>\n",
       "    <tr>\n",
       "      <th>10</th>\n",
       "      <td>Pfizer/BioNTech</td>\n",
       "      <td>53820</td>\n",
       "      <td>2021-04-05</td>\n",
       "    </tr>\n",
       "    <tr>\n",
       "      <th>11</th>\n",
       "      <td>Sinovac</td>\n",
       "      <td>300000</td>\n",
       "      <td>2021-04-07</td>\n",
       "    </tr>\n",
       "    <tr>\n",
       "      <th>12</th>\n",
       "      <td>Sinovac</td>\n",
       "      <td>700000</td>\n",
       "      <td>2021-04-10</td>\n",
       "    </tr>\n",
       "    <tr>\n",
       "      <th>13</th>\n",
       "      <td>Pfizer/BioNTech</td>\n",
       "      <td>53820</td>\n",
       "      <td>2021-04-14</td>\n",
       "    </tr>\n",
       "    <tr>\n",
       "      <th>14</th>\n",
       "      <td>Pfizer/BioNTech</td>\n",
       "      <td>54990</td>\n",
       "      <td>2021-04-21</td>\n",
       "    </tr>\n",
       "    <tr>\n",
       "      <th>15</th>\n",
       "      <td>Oxford/AstraZeneca</td>\n",
       "      <td>336000</td>\n",
       "      <td>2021-04-24</td>\n",
       "    </tr>\n",
       "    <tr>\n",
       "      <th>16</th>\n",
       "      <td>Pfizer/BioNTech</td>\n",
       "      <td>54990</td>\n",
       "      <td>2021-04-28</td>\n",
       "    </tr>\n",
       "    <tr>\n",
       "      <th>17</th>\n",
       "      <td>Pfizer/BioNTech</td>\n",
       "      <td>100620</td>\n",
       "      <td>2021-05-04</td>\n",
       "    </tr>\n",
       "  </tbody>\n",
       "</table>\n",
       "</div>"
      ],
      "text/plain": [
       "               vaccine   total arrived_at\n",
       "0      Pfizer/BioNTech    8190 2021-01-20\n",
       "1      Pfizer/BioNTech   16380 2021-02-17\n",
       "2      Pfizer/BioNTech   17550 2021-02-24\n",
       "3      Pfizer/BioNTech   31590 2021-03-03\n",
       "4              Sinovac   20000 2021-03-06\n",
       "5      Pfizer/BioNTech   73710 2021-03-10\n",
       "6   Oxford/AstraZeneca   84000 2021-03-17\n",
       "7      Pfizer/BioNTech   62010 2021-03-17\n",
       "8      Pfizer/BioNTech   65520 2021-03-24\n",
       "9      Pfizer/BioNTech   66690 2021-03-31\n",
       "10     Pfizer/BioNTech   53820 2021-04-05\n",
       "11             Sinovac  300000 2021-04-07\n",
       "12             Sinovac  700000 2021-04-10\n",
       "13     Pfizer/BioNTech   53820 2021-04-14\n",
       "14     Pfizer/BioNTech   54990 2021-04-21\n",
       "15  Oxford/AstraZeneca  336000 2021-04-24\n",
       "16     Pfizer/BioNTech   54990 2021-04-28\n",
       "17     Pfizer/BioNTech  100620 2021-05-04"
      ]
     },
     "execution_count": 157,
     "metadata": {},
     "output_type": "execute_result"
    }
   ],
   "source": [
    "dfab = pd.read_csv('in/fabricantes.csv', sep = ',')\n",
    "dfab['arrived_at'] =  pd.to_datetime(dfab['arrived_at'], infer_datetime_format=True)\n",
    "dfab=dfab.loc[(dfab['arrived_at'] >= fecha_inicio) & (dfab['arrived_at'] <= fecha_fin)]\n",
    "dfab"
   ]
  },
  {
   "cell_type": "code",
   "execution_count": 158,
   "metadata": {},
   "outputs": [],
   "source": [
    "df2 = dfab.groupby(('vaccine')).total.sum()"
   ]
  },
  {
   "cell_type": "code",
   "execution_count": 9,
   "metadata": {},
   "outputs": [
    {
     "ename": "NameError",
     "evalue": "name 'df2' is not defined",
     "output_type": "error",
     "traceback": [
      "\u001b[1;31m---------------------------------------------------------------------------\u001b[0m",
      "\u001b[1;31mNameError\u001b[0m                                 Traceback (most recent call last)",
      "\u001b[1;32m<ipython-input-9-20454dd21a47>\u001b[0m in \u001b[0;36m<module>\u001b[1;34m\u001b[0m\n\u001b[1;32m----> 1\u001b[1;33m \u001b[0mplot\u001b[0m \u001b[1;33m=\u001b[0m \u001b[0mdf2\u001b[0m\u001b[1;33m.\u001b[0m\u001b[0mplot\u001b[0m\u001b[1;33m.\u001b[0m\u001b[0mpie\u001b[0m\u001b[1;33m(\u001b[0m\u001b[0my\u001b[0m\u001b[1;33m=\u001b[0m\u001b[1;34m'mass'\u001b[0m\u001b[1;33m,\u001b[0m \u001b[0mfigsize\u001b[0m\u001b[1;33m=\u001b[0m\u001b[1;33m(\u001b[0m\u001b[1;36m5\u001b[0m\u001b[1;33m,\u001b[0m \u001b[1;36m5\u001b[0m\u001b[1;33m)\u001b[0m\u001b[1;33m,\u001b[0m\u001b[0mshadow\u001b[0m \u001b[1;33m=\u001b[0m \u001b[1;32mTrue\u001b[0m\u001b[1;33m,\u001b[0m\u001b[0mautopct\u001b[0m\u001b[1;33m=\u001b[0m\u001b[1;34m\"%0.1f %%\"\u001b[0m\u001b[1;33m)\u001b[0m\u001b[1;33m\u001b[0m\u001b[1;33m\u001b[0m\u001b[0m\n\u001b[0m",
      "\u001b[1;31mNameError\u001b[0m: name 'df2' is not defined"
     ]
    }
   ],
   "source": [
    "plot = df2.plot.pie(y='mass', figsize=(5, 5),shadow = True,autopct=\"%0.1f %%\")"
   ]
  },
  {
   "cell_type": "markdown",
   "metadata": {},
   "source": [
    "## Parte 3 Generar histogramas de vacunas por mes de llega y fabricante.\n",
    "En esta parte del proyecto mostraremos la cantidad de vacunas por fabricante que llegaron cada mes, para posteriormente vacunar a los Ecuatorianos, en estas graficas podemos observar que la pfizer es la que mayor numero de vuelos tuvo pero en menor cantidad mientras que la Sinovac llegaron en 3 vuelos pero en mayor cantidad."
   ]
  },
  {
   "cell_type": "code",
   "execution_count": 167,
   "metadata": {},
   "outputs": [
    {
     "data": {
      "text/html": [
       "<div>\n",
       "<style scoped>\n",
       "    .dataframe tbody tr th:only-of-type {\n",
       "        vertical-align: middle;\n",
       "    }\n",
       "\n",
       "    .dataframe tbody tr th {\n",
       "        vertical-align: top;\n",
       "    }\n",
       "\n",
       "    .dataframe thead th {\n",
       "        text-align: right;\n",
       "    }\n",
       "</style>\n",
       "<table border=\"1\" class=\"dataframe\">\n",
       "  <thead>\n",
       "    <tr style=\"text-align: right;\">\n",
       "      <th></th>\n",
       "      <th>vaccine</th>\n",
       "      <th>arrived_at</th>\n",
       "      <th>total</th>\n",
       "    </tr>\n",
       "  </thead>\n",
       "  <tbody>\n",
       "    <tr>\n",
       "      <th>0</th>\n",
       "      <td>Oxford/AstraZeneca</td>\n",
       "      <td>2021-03-17</td>\n",
       "      <td>84000</td>\n",
       "    </tr>\n",
       "    <tr>\n",
       "      <th>1</th>\n",
       "      <td>Oxford/AstraZeneca</td>\n",
       "      <td>2021-04-24</td>\n",
       "      <td>336000</td>\n",
       "    </tr>\n",
       "    <tr>\n",
       "      <th>2</th>\n",
       "      <td>Pfizer/BioNTech</td>\n",
       "      <td>2021-01-20</td>\n",
       "      <td>8190</td>\n",
       "    </tr>\n",
       "    <tr>\n",
       "      <th>3</th>\n",
       "      <td>Pfizer/BioNTech</td>\n",
       "      <td>2021-02-17</td>\n",
       "      <td>16380</td>\n",
       "    </tr>\n",
       "    <tr>\n",
       "      <th>4</th>\n",
       "      <td>Pfizer/BioNTech</td>\n",
       "      <td>2021-02-24</td>\n",
       "      <td>17550</td>\n",
       "    </tr>\n",
       "    <tr>\n",
       "      <th>5</th>\n",
       "      <td>Pfizer/BioNTech</td>\n",
       "      <td>2021-03-03</td>\n",
       "      <td>31590</td>\n",
       "    </tr>\n",
       "    <tr>\n",
       "      <th>6</th>\n",
       "      <td>Pfizer/BioNTech</td>\n",
       "      <td>2021-03-10</td>\n",
       "      <td>73710</td>\n",
       "    </tr>\n",
       "    <tr>\n",
       "      <th>7</th>\n",
       "      <td>Pfizer/BioNTech</td>\n",
       "      <td>2021-03-17</td>\n",
       "      <td>62010</td>\n",
       "    </tr>\n",
       "    <tr>\n",
       "      <th>8</th>\n",
       "      <td>Pfizer/BioNTech</td>\n",
       "      <td>2021-03-24</td>\n",
       "      <td>65520</td>\n",
       "    </tr>\n",
       "    <tr>\n",
       "      <th>9</th>\n",
       "      <td>Pfizer/BioNTech</td>\n",
       "      <td>2021-03-31</td>\n",
       "      <td>66690</td>\n",
       "    </tr>\n",
       "    <tr>\n",
       "      <th>10</th>\n",
       "      <td>Pfizer/BioNTech</td>\n",
       "      <td>2021-04-05</td>\n",
       "      <td>53820</td>\n",
       "    </tr>\n",
       "    <tr>\n",
       "      <th>11</th>\n",
       "      <td>Pfizer/BioNTech</td>\n",
       "      <td>2021-04-14</td>\n",
       "      <td>53820</td>\n",
       "    </tr>\n",
       "    <tr>\n",
       "      <th>12</th>\n",
       "      <td>Pfizer/BioNTech</td>\n",
       "      <td>2021-04-21</td>\n",
       "      <td>54990</td>\n",
       "    </tr>\n",
       "    <tr>\n",
       "      <th>13</th>\n",
       "      <td>Pfizer/BioNTech</td>\n",
       "      <td>2021-04-28</td>\n",
       "      <td>54990</td>\n",
       "    </tr>\n",
       "    <tr>\n",
       "      <th>14</th>\n",
       "      <td>Pfizer/BioNTech</td>\n",
       "      <td>2021-05-04</td>\n",
       "      <td>100620</td>\n",
       "    </tr>\n",
       "    <tr>\n",
       "      <th>15</th>\n",
       "      <td>Sinovac</td>\n",
       "      <td>2021-03-06</td>\n",
       "      <td>20000</td>\n",
       "    </tr>\n",
       "    <tr>\n",
       "      <th>16</th>\n",
       "      <td>Sinovac</td>\n",
       "      <td>2021-04-07</td>\n",
       "      <td>300000</td>\n",
       "    </tr>\n",
       "    <tr>\n",
       "      <th>17</th>\n",
       "      <td>Sinovac</td>\n",
       "      <td>2021-04-10</td>\n",
       "      <td>700000</td>\n",
       "    </tr>\n",
       "  </tbody>\n",
       "</table>\n",
       "</div>"
      ],
      "text/plain": [
       "               vaccine arrived_at   total\n",
       "0   Oxford/AstraZeneca 2021-03-17   84000\n",
       "1   Oxford/AstraZeneca 2021-04-24  336000\n",
       "2      Pfizer/BioNTech 2021-01-20    8190\n",
       "3      Pfizer/BioNTech 2021-02-17   16380\n",
       "4      Pfizer/BioNTech 2021-02-24   17550\n",
       "5      Pfizer/BioNTech 2021-03-03   31590\n",
       "6      Pfizer/BioNTech 2021-03-10   73710\n",
       "7      Pfizer/BioNTech 2021-03-17   62010\n",
       "8      Pfizer/BioNTech 2021-03-24   65520\n",
       "9      Pfizer/BioNTech 2021-03-31   66690\n",
       "10     Pfizer/BioNTech 2021-04-05   53820\n",
       "11     Pfizer/BioNTech 2021-04-14   53820\n",
       "12     Pfizer/BioNTech 2021-04-21   54990\n",
       "13     Pfizer/BioNTech 2021-04-28   54990\n",
       "14     Pfizer/BioNTech 2021-05-04  100620\n",
       "15             Sinovac 2021-03-06   20000\n",
       "16             Sinovac 2021-04-07  300000\n",
       "17             Sinovac 2021-04-10  700000"
      ]
     },
     "execution_count": 167,
     "metadata": {},
     "output_type": "execute_result"
    }
   ],
   "source": [
    "dfab3 = pd.read_csv('in/fabricantes.csv', sep = ',')\n",
    "dfab3['arrived_at'] =  pd.to_datetime(dfab3['arrived_at'], infer_datetime_format=True)\n",
    "dfab3=dfab3.loc[(dfab3['arrived_at'] >= fecha_inicio) & (dfab3['arrived_at'] <= fecha_fin)]\n",
    "dfab3= dfab3.groupby(['vaccine','arrived_at'],as_index=False)['total'].sum()\n",
    "dfab3"
   ]
  },
  {
   "cell_type": "markdown",
   "metadata": {},
   "source": [
    "# Pfizer\n",
    "Aqui se nos mostrara en comparacion con la fecha Ingresada el numero de vacunas que llegaron de pfizer."
   ]
  },
  {
   "cell_type": "code",
   "execution_count": 174,
   "metadata": {},
   "outputs": [],
   "source": [
    "pfizer=dfab3.loc[(dfab3['vaccine'] == 'Pfizer/BioNTech')]"
   ]
  },
  {
   "cell_type": "code",
   "execution_count": 193,
   "metadata": {},
   "outputs": [
    {
     "data": {
      "image/png": "[encoded data removed]",
      "text/plain": [
       "<Figure size 432x288 with 1 Axes>"
      ]
     },
     "metadata": {
      "needs_background": "light"
     },
     "output_type": "display_data"
    }
   ],
   "source": [
    "fecha = pfizer['arrived_at'].tolist()\n",
    "vacunas=pfizer['total'].tolist()\n",
    "plt.bar(fecha, vacunas)\n",
    "plt.title('Histograma de vacunas')\n",
    "plt.xlabel('fecha')\n",
    "plt.ylabel('vacunas')\n",
    "plt.xticks(rotation=60)\n",
    "plt.show()"
   ]
  },
  {
   "cell_type": "markdown",
   "metadata": {},
   "source": [
    "# Sinovac\n",
    "Aqui se nos mostrara en comparacion con la fecha Ingresada el numero de vacunas que llegaron de sinovac."
   ]
  },
  {
   "cell_type": "code",
   "execution_count": 187,
   "metadata": {},
   "outputs": [],
   "source": [
    "sinovac=dfab3.loc[(dfab3['vaccine'] == 'Sinovac')]"
   ]
  },
  {
   "cell_type": "code",
   "execution_count": 188,
   "metadata": {},
   "outputs": [
    {
     "data": {
      "image/png": "[encoded data removed]",
      "text/plain": [
       "<Figure size 432x288 with 1 Axes>"
      ]
     },
     "metadata": {
      "needs_background": "light"
     },
     "output_type": "display_data"
    }
   ],
   "source": [
    "fecha = sinovac['arrived_at'].tolist()\n",
    "vacunas=sinovac['total'].tolist()\n",
    "plt.bar(fecha, vacunas)\n",
    "plt.title('Histograma de vacunas')\n",
    "plt.xlabel('fecha')\n",
    "plt.ylabel('vacunas')\n",
    "plt.xticks(rotation=60)\n",
    "plt.show()"
   ]
  },
  {
   "cell_type": "markdown",
   "metadata": {},
   "source": [
    "# Astrazeneca\n",
    "Aqui se nos mostrara en comparacion con la fecha Ingresada el numero de vacunas que llegaron de Astrazeneca."
   ]
  },
  {
   "cell_type": "code",
   "execution_count": 189,
   "metadata": {},
   "outputs": [],
   "source": [
    "astra=dfab3.loc[(dfab3['vaccine'] == 'Oxford/AstraZeneca')]"
   ]
  },
  {
   "cell_type": "code",
   "execution_count": 190,
   "metadata": {},
   "outputs": [
    {
     "data": {
      "image/png": "[encoded data removed]",
      "text/plain": [
       "<Figure size 432x288 with 1 Axes>"
      ]
     },
     "metadata": {
      "needs_background": "light"
     },
     "output_type": "display_data"
    }
   ],
   "source": [
    "fecha = astra['arrived_at'].tolist()\n",
    "vacunas=astra['total'].tolist()\n",
    "plt.bar(fecha, vacunas)\n",
    "plt.title('Histograma de vacunas')\n",
    "plt.xlabel('fecha')\n",
    "plt.ylabel('vacunas')\n",
    "plt.xticks(rotation=60)\n",
    "plt.show()"
   ]
  },
  {
   "cell_type": "markdown",
   "metadata": {},
   "source": [
    "## Modelo de Regresion\n",
    "\n",
    "Generar un modelo matemático de predicción basado en regresión, del procesos de vacunación en base al numero actual de vacunados (1 y 2 dosis) y a la llegada de nuevas vacunas.\n",
    "\n",
    "El modelo de regresión determina la relación que tiene una variable dependiente, con respecto a otras variables independientes, en esta práctica vamos a realizar un modelo de predicción de vacunados, en nuestro ejemplo tomaremos en cuenta la primera dosis, para calcular en el país que día ya se han vacunado al menos una vez, toda la población ecuatoriana, como también haremos un modelo de predicción para calcular que día se vacunaran todos en el Ecuador con las dos dosis."
   ]
  },
  {
   "cell_type": "code",
   "execution_count": 10,
   "metadata": {},
   "outputs": [],
   "source": [
    "from sklearn.linear_model import LinearRegression\n",
    "from sklearn.pipeline import Pipeline\n",
    "from datetime import datetime, timedelta\n",
    "from sklearn.model_selection import train_test_split\n",
    "import time\n"
   ]
  },
  {
   "cell_type": "code",
   "execution_count": null,
   "metadata": {},
   "outputs": [],
   "source": [
    "dfr = pd.read_csv('in/vacunas.csv', sep = ',')\n",
    "print(dfr.head())"
   ]
  },
  {
   "cell_type": "code",
   "execution_count": null,
   "metadata": {},
   "outputs": [],
   "source": [
    "from datetime import datetime,timedelta\n",
    "import datetime as dt\n",
    "FMT = '%d/%m/%Y'\n",
    "dfr['dia'] = dfr['fecha'].map(lambda x : (datetime.strptime(x, FMT) - datetime.strptime(\"01/01/2021\", FMT)).days)\n",
    "dfr.head()"
   ]
  },
  {
   "cell_type": "code",
   "execution_count": null,
   "metadata": {},
   "outputs": [],
   "source": [
    "x1 = dfr['dia'].values.reshape(-1,1)\n",
    "y1 = dfr['primera_dosis'].values.reshape(-1,1)\n",
    "X_train1, X_test1, y_train1, y_test1 = train_test_split(x1, y1, test_size=0.2, random_state=42) \n",
    "x2 = dfr['dia'].values.reshape(-1,1)\n",
    "y2 = dfr['segunda_dosis'].values.reshape(-1,1)\n",
    "X_train2, X_test2, y_train2, y_test2 = train_test_split(x2, y2, test_size=0.2, random_state=42) "
   ]
  },
  {
   "cell_type": "code",
   "execution_count": null,
   "metadata": {},
   "outputs": [],
   "source": [
    "from sklearn.linear_model import LinearRegression  \n",
    "regressor1 = LinearRegression()  \n",
    "regressor1.fit(X_train1, y_train1) \n",
    "regressor2 = LinearRegression()  \n",
    "regressor2.fit(X_train2, y_train2) "
   ]
  },
  {
   "cell_type": "code",
   "execution_count": null,
   "metadata": {},
   "outputs": [],
   "source": [
    "y_pred1 = regressor1.predict(X_test1)\n",
    "dfp = pd.DataFrame({'Actual': y_test1.flatten(), 'Predicted': y_pred1.flatten()}) \n",
    "dfp "
   ]
  },
  {
   "cell_type": "code",
   "execution_count": null,
   "metadata": {},
   "outputs": [],
   "source": [
    "y_pred=0\n",
    "i = 126\n",
    "while y_pred < 17370000:\n",
    "    y_pred = regressor1.predict(np.array([[i]]))\n",
    "    y_pred = y_pred[0].round()[0]\n",
    "    i += 1"
   ]
  },
  {
   "cell_type": "code",
   "execution_count": null,
   "metadata": {},
   "outputs": [],
   "source": [
    "print(y_pred)"
   ]
  },
  {
   "cell_type": "markdown",
   "metadata": {},
   "source": [
    "Como podemos observar la fecha en la que se predice que se tendría vacunado a todo el Ecuador con la primera dosis seria el día 05-11-2026."
   ]
  },
  {
   "cell_type": "code",
   "execution_count": null,
   "metadata": {},
   "outputs": [],
   "source": [
    "primeraFechaValida=datetime.strptime(\"01/01/2021\", FMT)\n",
    "ultimaVacuna = primeraFechaValida + dt.timedelta(days=np.float64(i))\n",
    "ultimaVacuna"
   ]
  },
  {
   "cell_type": "code",
   "execution_count": null,
   "metadata": {},
   "outputs": [],
   "source": [
    "y_pred2=0\n",
    "i2 = 126\n",
    "while y_pred2 < 17370000:\n",
    "    y_pred2 = regressor2.predict(np.array([[i2]]))\n",
    "    y_pred2 = y_pred2[0].round()[0]\n",
    "    i2 += 1"
   ]
  },
  {
   "cell_type": "code",
   "execution_count": null,
   "metadata": {},
   "outputs": [],
   "source": [
    "print(y_pred2)"
   ]
  },
  {
   "cell_type": "markdown",
   "metadata": {},
   "source": [
    "Como podemos observar la fecha en la que se predice que se tendría vacunado a todo el Ecuador con la segunda dosis seria el día 17-06-2037\n",
    "."
   ]
  },
  {
   "cell_type": "code",
   "execution_count": null,
   "metadata": {},
   "outputs": [],
   "source": [
    "primeraFechaValida=datetime.strptime(\"01/01/2021\", FMT)\n",
    "ultimaVacuna = primeraFechaValida + dt.timedelta(days=np.float64(i2))\n",
    "ultimaVacuna"
   ]
  },
  {
   "cell_type": "markdown",
   "metadata": {},
   "source": [
    "## Comparacion con otros paises\n",
    "Desarrollar y generar un proceso de comparación con al menos dos países (1. Latinoamérica,  1. Europa).\n",
    "Nosotros vamos a comparar los Países de Uruguay y Bélgica respectivamente, con esta relación procederemos a comparar como fue la vacunación en dichos países con un modelo de regresión, para poder predecir qué fecha tentativa terminaría la vacunación.\n",
    "Como podemos ver entre los países que estamos comparando, la fecha de inicio de vacunación en Bélgica, es relativamente temprana a comparación con los otros países. "
   ]
  },
  {
   "cell_type": "code",
   "execution_count": null,
   "metadata": {},
   "outputs": [],
   "source": [
    "dfecu = pd.read_csv('in/vacunas.csv', sep = ',')\n",
    "print(dfecu.head())"
   ]
  },
  {
   "cell_type": "code",
   "execution_count": null,
   "metadata": {},
   "outputs": [],
   "source": [
    "dfuru = pd.read_csv('in/uruguay.csv', sep = ',')\n",
    "dfuru.head()"
   ]
  },
  {
   "cell_type": "code",
   "execution_count": null,
   "metadata": {},
   "outputs": [],
   "source": [
    "dfbel = pd.read_csv('in/belgium.csv', sep = ',')\n",
    "dfbel.head()"
   ]
  },
  {
   "cell_type": "code",
   "execution_count": null,
   "metadata": {},
   "outputs": [],
   "source": [
    "from datetime import datetime,timedelta\n",
    "import datetime as dt\n",
    "FMT = '%Y-%m-%d'\n",
    "FMTE = '%d/%m/%Y'\n",
    "dfuru['dia'] = dfuru['date'].map(lambda x : (datetime.strptime(x, FMT) - datetime.strptime(\"2020-12-28\", FMT)).days)\n",
    "dfbel['dia'] = dfbel['date'].map(lambda x : (datetime.strptime(x, FMT) - datetime.strptime(\"2020-12-28\", FMT)).days)\n",
    "dfecu['dia'] = dfecu['fecha'].map(lambda x : (datetime.strptime(x, FMTE) - datetime.strptime(\"28/12/2020\", FMTE)).days)"
   ]
  },
  {
   "cell_type": "code",
   "execution_count": null,
   "metadata": {},
   "outputs": [],
   "source": [
    "xuru = dfuru['dia'].values.reshape(-1,1)\n",
    "yuru = dfuru['total_vaccinations'].values.reshape(-1,1)\n",
    "xbel = dfbel['dia'].values.reshape(-1,1)\n",
    "ybel = dfbel['total_vaccinations'].values.reshape(-1,1)\n",
    "xecu = dfecu['dia'].values.reshape(-1,1)\n",
    "yecu = dfecu['dosis_total'].values.reshape(-1,1)"
   ]
  },
  {
   "cell_type": "code",
   "execution_count": null,
   "metadata": {},
   "outputs": [],
   "source": [
    "from sklearn.model_selection import train_test_split  \n",
    "X_trainuru, X_testuru, y_trainuru, y_testuru = train_test_split(xuru, yuru, test_size=0.2, random_state=0)\n",
    "X_trainbel, X_testbel, y_trainbel, y_testbel = train_test_split(xbel, ybel, test_size=0.2, random_state=0)\n",
    "X_trainecu, X_testecu, y_trainecu, y_testecu = train_test_split(xecu, yecu, test_size=0.2, random_state=0)"
   ]
  },
  {
   "cell_type": "code",
   "execution_count": null,
   "metadata": {},
   "outputs": [],
   "source": [
    "from sklearn.ensemble import RandomForestRegressor\n",
    "from sklearn.model_selection import train_test_split \n",
    "modeloRFuru = RandomForestRegressor(n_estimators=10, random_state=0)\n",
    "modeloRFuru.fit(X_trainuru, y_trainuru.ravel())\n",
    "modeloRFbel = RandomForestRegressor(n_estimators=10, random_state=0)\n",
    "modeloRFbel.fit(X_trainbel, y_trainbel.ravel())\n",
    "modeloRFecu = RandomForestRegressor(n_estimators=10, random_state=0)\n",
    "modeloRFecu.fit(X_trainecu, y_trainecu.ravel())"
   ]
  },
  {
   "cell_type": "code",
   "execution_count": null,
   "metadata": {},
   "outputs": [],
   "source": [
    "inicio = datetime(2020,12,18)\n",
    "fin    = datetime(2021,5,9)\n",
    "lista_fechas = [(inicio + timedelta(days=d)).strftime(\"%Y-%m-%d\")\n",
    "                    for d in range((fin - inicio).days + 1)] \n",
    "dfnew = pd.DataFrame(list(zip(lista_fechas)), columns = ['fecha'])\n",
    "dfnew['fecha']=lista_fechas\n",
    "dfnew\n",
    "FMT = '%Y-%m-%d'\n",
    "dfnew['dia'] = dfnew['fecha'].map(lambda x : (datetime.strptime(x, FMT) - datetime.strptime(\"2020-12-18\", FMT)).days)\n",
    "dfnew.head()"
   ]
  },
  {
   "cell_type": "code",
   "execution_count": null,
   "metadata": {},
   "outputs": [],
   "source": [
    "dfnew['uru'] = dfnew['dia'].map(lambda x : modeloRFuru.predict([[x]]))\n",
    "dfnew['bel'] = dfnew['dia'].map(lambda x : modeloRFbel.predict([[x]]))\n",
    "dfnew['ecu'] = dfnew['dia'].map(lambda x : modeloRFecu.predict([[x]]))\n",
    "dfnew"
   ]
  },
  {
   "cell_type": "code",
   "execution_count": null,
   "metadata": {},
   "outputs": [],
   "source": [
    "plt.plot(dfnew['dia'],dfnew['uru'],  '-', label = 'Predicción Uruguay', linewidth = 3)\n",
    "plt.plot(dfnew['dia'],dfnew['bel'],  '-', label = 'Predicción Belgica', linewidth = 3)\n",
    "plt.plot(dfnew['dia'],dfnew['ecu'],  '-', label = 'Predicción Ecuador', linewidth = 3)\n",
    "plt.title('Regresion')\n",
    "plt.xlabel('Año')\n",
    "plt.ylabel('PIB')\n",
    "plt.legend(loc=\"upper left\")\n",
    "plt.show()"
   ]
  }
 ],
 "metadata": {
  "celltoolbar": "Tags",
  "kernelspec": {
   "display_name": "Python 3",
   "language": "python",
   "name": "python3"
  },
  "language_info": {
   "codemirror_mode": {
    "name": "ipython",
    "version": 3
   },
   "file_extension": ".py",
   "mimetype": "text/x-python",
   "name": "python",
   "nbconvert_exporter": "python",
   "pygments_lexer": "ipython3",
   "version": "3.8.5"
  }
 },
 "nbformat": 4,
 "nbformat_minor": 4
}
