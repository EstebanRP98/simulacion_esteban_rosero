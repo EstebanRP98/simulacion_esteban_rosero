{
 "cells": [
  {
   "cell_type": "markdown",
   "id": "03c435b1",
   "metadata": {
    "papermill": {
     "duration": 0.031836,
     "end_time": "2021-05-11T03:04:36.417370",
     "exception": false,
     "start_time": "2021-05-11T03:04:36.385534",
     "status": "completed"
    },
    "tags": []
   },
   "source": [
    "## Prueba practica Regresion \n",
    "Nombre: Esteban Rosero\n",
    "\n",
    "En el siguiente trabajo mostraremos, como ha sido la vacunacion en el pais, con relacion a las fechas, como tambien relacionando el fabricante de la vacuna, en el proyecto mmostraremos cuantas vacunas se han colocado, una comparacion con otros paises y tambien, predecimos el dia en el cual podriamos llegar al total de vacunados en el Ecuador"
   ]
  },
  {
   "cell_type": "markdown",
   "id": "7c089961",
   "metadata": {
    "papermill": {
     "duration": 0.030772,
     "end_time": "2021-05-11T03:04:36.480106",
     "exception": false,
     "start_time": "2021-05-11T03:04:36.449334",
     "status": "completed"
    },
    "tags": []
   },
   "source": [
    "# Importamos las librerias"
   ]
  },
  {
   "cell_type": "code",
   "execution_count": 1,
   "id": "661a2ef3",
   "metadata": {
    "execution": {
     "iopub.execute_input": "2021-05-11T03:04:36.540552Z",
     "iopub.status.busy": "2021-05-11T03:04:36.539420Z",
     "iopub.status.idle": "2021-05-11T03:04:37.701247Z",
     "shell.execute_reply": "2021-05-11T03:04:37.700200Z"
    },
    "papermill": {
     "duration": 1.19385,
     "end_time": "2021-05-11T03:04:37.701247",
     "exception": false,
     "start_time": "2021-05-11T03:04:36.507397",
     "status": "completed"
    },
    "tags": []
   },
   "outputs": [],
   "source": [
    "import pandas as pd\n",
    "import numpy as np\n",
    "import matplotlib.pylab as plt"
   ]
  },
  {
   "cell_type": "markdown",
   "id": "d8670565",
   "metadata": {
    "papermill": {
     "duration": 0.033995,
     "end_time": "2021-05-11T03:04:37.761618",
     "exception": false,
     "start_time": "2021-05-11T03:04:37.727623",
     "status": "completed"
    },
    "tags": []
   },
   "source": [
    "En este paso procedemos ha parametrizar las fechas en las cuales ostraran las graficas con relacion a los vacunados, los fabricantes y la cantidad de vacunas"
   ]
  },
  {
   "cell_type": "code",
   "execution_count": 2,
   "id": "823801ca",
   "metadata": {
    "execution": {
     "iopub.execute_input": "2021-05-11T03:04:37.826881Z",
     "iopub.status.busy": "2021-05-11T03:04:37.825893Z",
     "iopub.status.idle": "2021-05-11T03:04:37.828886Z",
     "shell.execute_reply": "2021-05-11T03:04:37.827881Z"
    },
    "papermill": {
     "duration": 0.036608,
     "end_time": "2021-05-11T03:04:37.828886",
     "exception": false,
     "start_time": "2021-05-11T03:04:37.792278",
     "status": "completed"
    },
    "tags": [
     "injected-parameters"
    ]
   },
   "outputs": [],
   "source": [
    "# Parameters\n",
    "fecha_inicio = \"20-01-2021\"\n",
    "fecha_fin = \"2021-04-15\"\n"
   ]
  },
  {
   "cell_type": "markdown",
   "id": "d6fa0355",
   "metadata": {
    "papermill": {
     "duration": 0.026732,
     "end_time": "2021-05-11T03:04:37.885033",
     "exception": false,
     "start_time": "2021-05-11T03:04:37.858301",
     "status": "completed"
    },
    "tags": []
   },
   "source": [
    "# Parte 1 Generar graficas y reportes del total de personas  vacunadas.\n",
    "En el primer punto nosotros hacemos una recoleccion dentro del dataset, con relacion al rango de fechas ingresados anteriormente, en esta nos muestra la fecha, la cantidad total de vacunas, y la cantidad de personas que se han colocado la primera dosis y la segunda dosis, en la grafica se puede ver como ha ido creciendo el numero de vacunados en el Ecuador."
   ]
  },
  {
   "cell_type": "code",
   "execution_count": 3,
   "id": "874c9d8d",
   "metadata": {
    "execution": {
     "iopub.execute_input": "2021-05-11T03:04:37.963634Z",
     "iopub.status.busy": "2021-05-11T03:04:37.951455Z",
     "iopub.status.idle": "2021-05-11T03:04:37.974806Z",
     "shell.execute_reply": "2021-05-11T03:04:37.975847Z"
    },
    "papermill": {
     "duration": 0.060146,
     "end_time": "2021-05-11T03:04:37.975847",
     "exception": false,
     "start_time": "2021-05-11T03:04:37.915701",
     "status": "completed"
    },
    "tags": []
   },
   "outputs": [
    {
     "data": {
      "text/html": [
       "<div>\n",
       "<style scoped>\n",
       "    .dataframe tbody tr th:only-of-type {\n",
       "        vertical-align: middle;\n",
       "    }\n",
       "\n",
       "    .dataframe tbody tr th {\n",
       "        vertical-align: top;\n",
       "    }\n",
       "\n",
       "    .dataframe thead th {\n",
       "        text-align: right;\n",
       "    }\n",
       "</style>\n",
       "<table border=\"1\" class=\"dataframe\">\n",
       "  <thead>\n",
       "    <tr style=\"text-align: right;\">\n",
       "      <th></th>\n",
       "      <th>fecha</th>\n",
       "      <th>dosis_total</th>\n",
       "      <th>primera_dosis</th>\n",
       "      <th>segunda_dosis</th>\n",
       "    </tr>\n",
       "  </thead>\n",
       "  <tbody>\n",
       "    <tr>\n",
       "      <th>0</th>\n",
       "      <td>2021-01-21</td>\n",
       "      <td>0</td>\n",
       "      <td>0</td>\n",
       "      <td>0</td>\n",
       "    </tr>\n",
       "    <tr>\n",
       "      <th>1</th>\n",
       "      <td>2021-01-22</td>\n",
       "      <td>108</td>\n",
       "      <td>108</td>\n",
       "      <td>0</td>\n",
       "    </tr>\n",
       "    <tr>\n",
       "      <th>2</th>\n",
       "      <td>2021-01-27</td>\n",
       "      <td>2982</td>\n",
       "      <td>2982</td>\n",
       "      <td>0</td>\n",
       "    </tr>\n",
       "    <tr>\n",
       "      <th>3</th>\n",
       "      <td>2021-02-04</td>\n",
       "      <td>6228</td>\n",
       "      <td>6228</td>\n",
       "      <td>0</td>\n",
       "    </tr>\n",
       "    <tr>\n",
       "      <th>4</th>\n",
       "      <td>2021-02-17</td>\n",
       "      <td>8190</td>\n",
       "      <td>6228</td>\n",
       "      <td>1962</td>\n",
       "    </tr>\n",
       "  </tbody>\n",
       "</table>\n",
       "</div>"
      ],
      "text/plain": [
       "       fecha  dosis_total  primera_dosis  segunda_dosis\n",
       "0 2021-01-21            0              0              0\n",
       "1 2021-01-22          108            108              0\n",
       "2 2021-01-27         2982           2982              0\n",
       "3 2021-02-04         6228           6228              0\n",
       "4 2021-02-17         8190           6228           1962"
      ]
     },
     "execution_count": 3,
     "metadata": {},
     "output_type": "execute_result"
    }
   ],
   "source": [
    "df = pd.read_csv('in/vacunas.csv', sep = ',')\n",
    "df['fecha'] =  pd.to_datetime(df['fecha'], infer_datetime_format=True)\n",
    "df=df.loc[(df['fecha'] >= fecha_inicio) & (df['fecha'] <= fecha_fin)]\n",
    "df.head()"
   ]
  },
  {
   "cell_type": "code",
   "execution_count": 4,
   "id": "b1809d1e",
   "metadata": {
    "execution": {
     "iopub.execute_input": "2021-05-11T03:04:38.042232Z",
     "iopub.status.busy": "2021-05-11T03:04:38.041227Z",
     "iopub.status.idle": "2021-05-11T03:04:38.043225Z",
     "shell.execute_reply": "2021-05-11T03:04:38.044227Z"
    },
    "papermill": {
     "duration": 0.039701,
     "end_time": "2021-05-11T03:04:38.044227",
     "exception": false,
     "start_time": "2021-05-11T03:04:38.004526",
     "status": "completed"
    },
    "tags": []
   },
   "outputs": [],
   "source": [
    "date = df['fecha'].tolist()\n",
    "vacunados=df['dosis_total'].tolist()"
   ]
  },
  {
   "cell_type": "code",
   "execution_count": 5,
   "id": "8e1bd5ca",
   "metadata": {
    "execution": {
     "iopub.execute_input": "2021-05-11T03:04:38.124693Z",
     "iopub.status.busy": "2021-05-11T03:04:38.123693Z",
     "iopub.status.idle": "2021-05-11T03:04:38.389205Z",
     "shell.execute_reply": "2021-05-11T03:04:38.389205Z"
    },
    "papermill": {
     "duration": 0.313743,
     "end_time": "2021-05-11T03:04:38.390478",
     "exception": false,
     "start_time": "2021-05-11T03:04:38.076735",
     "status": "completed"
    },
    "tags": []
   },
   "outputs": [
    {
     "data": {
      "image/png": "[encoded data removed]",
      "text/plain": [
       "<Figure size 432x288 with 1 Axes>"
      ]
     },
     "metadata": {
      "needs_background": "light"
     },
     "output_type": "display_data"
    }
   ],
   "source": [
    "plt.plot(date, vacunados)\n",
    "plt.title('Histograma de Vacunados ')\n",
    "plt.xlabel('fecha')\n",
    "plt.ylabel('vacunados')\n",
    "plt.xticks(rotation=60)\n",
    "plt.show()"
   ]
  },
  {
   "cell_type": "markdown",
   "id": "b946d0d6",
   "metadata": {
    "papermill": {
     "duration": 0.033742,
     "end_time": "2021-05-11T03:04:38.451609",
     "exception": false,
     "start_time": "2021-05-11T03:04:38.417867",
     "status": "completed"
    },
    "tags": []
   },
   "source": [
    "# Parte 2 Generar grafico de pie por fabricante de la vacuna\n",
    "En esta parte del proyecto se puede observar la cantidad de fabricantes de vacunas contra el Covid que ha ingresado al Ecuador, como podemos ver por el momento solo han ingresado 3, el fabricante con el mayor numero de dosis utilizados en el Ecuador es la Sinovac seguido de la Pfizer."
   ]
  },
  {
   "cell_type": "code",
   "execution_count": 6,
   "id": "b4827f58",
   "metadata": {
    "execution": {
     "iopub.execute_input": "2021-05-11T03:04:38.530029Z",
     "iopub.status.busy": "2021-05-11T03:04:38.528785Z",
     "iopub.status.idle": "2021-05-11T03:04:38.545387Z",
     "shell.execute_reply": "2021-05-11T03:04:38.544347Z"
    },
    "papermill": {
     "duration": 0.066452,
     "end_time": "2021-05-11T03:04:38.545387",
     "exception": false,
     "start_time": "2021-05-11T03:04:38.478935",
     "status": "completed"
    },
    "tags": []
   },
   "outputs": [
    {
     "data": {
      "text/html": [
       "<div>\n",
       "<style scoped>\n",
       "    .dataframe tbody tr th:only-of-type {\n",
       "        vertical-align: middle;\n",
       "    }\n",
       "\n",
       "    .dataframe tbody tr th {\n",
       "        vertical-align: top;\n",
       "    }\n",
       "\n",
       "    .dataframe thead th {\n",
       "        text-align: right;\n",
       "    }\n",
       "</style>\n",
       "<table border=\"1\" class=\"dataframe\">\n",
       "  <thead>\n",
       "    <tr style=\"text-align: right;\">\n",
       "      <th></th>\n",
       "      <th>vaccine</th>\n",
       "      <th>total</th>\n",
       "      <th>arrived_at</th>\n",
       "    </tr>\n",
       "  </thead>\n",
       "  <tbody>\n",
       "    <tr>\n",
       "      <th>0</th>\n",
       "      <td>Pfizer/BioNTech</td>\n",
       "      <td>8190</td>\n",
       "      <td>2021-01-20</td>\n",
       "    </tr>\n",
       "    <tr>\n",
       "      <th>1</th>\n",
       "      <td>Pfizer/BioNTech</td>\n",
       "      <td>16380</td>\n",
       "      <td>2021-02-17</td>\n",
       "    </tr>\n",
       "    <tr>\n",
       "      <th>2</th>\n",
       "      <td>Pfizer/BioNTech</td>\n",
       "      <td>17550</td>\n",
       "      <td>2021-02-24</td>\n",
       "    </tr>\n",
       "    <tr>\n",
       "      <th>3</th>\n",
       "      <td>Pfizer/BioNTech</td>\n",
       "      <td>31590</td>\n",
       "      <td>2021-03-03</td>\n",
       "    </tr>\n",
       "    <tr>\n",
       "      <th>4</th>\n",
       "      <td>Sinovac</td>\n",
       "      <td>20000</td>\n",
       "      <td>2021-03-06</td>\n",
       "    </tr>\n",
       "    <tr>\n",
       "      <th>5</th>\n",
       "      <td>Pfizer/BioNTech</td>\n",
       "      <td>73710</td>\n",
       "      <td>2021-03-10</td>\n",
       "    </tr>\n",
       "    <tr>\n",
       "      <th>6</th>\n",
       "      <td>Oxford/AstraZeneca</td>\n",
       "      <td>84000</td>\n",
       "      <td>2021-03-17</td>\n",
       "    </tr>\n",
       "    <tr>\n",
       "      <th>7</th>\n",
       "      <td>Pfizer/BioNTech</td>\n",
       "      <td>62010</td>\n",
       "      <td>2021-03-17</td>\n",
       "    </tr>\n",
       "    <tr>\n",
       "      <th>8</th>\n",
       "      <td>Pfizer/BioNTech</td>\n",
       "      <td>65520</td>\n",
       "      <td>2021-03-24</td>\n",
       "    </tr>\n",
       "    <tr>\n",
       "      <th>9</th>\n",
       "      <td>Pfizer/BioNTech</td>\n",
       "      <td>66690</td>\n",
       "      <td>2021-03-31</td>\n",
       "    </tr>\n",
       "    <tr>\n",
       "      <th>10</th>\n",
       "      <td>Pfizer/BioNTech</td>\n",
       "      <td>53820</td>\n",
       "      <td>2021-04-05</td>\n",
       "    </tr>\n",
       "    <tr>\n",
       "      <th>11</th>\n",
       "      <td>Sinovac</td>\n",
       "      <td>300000</td>\n",
       "      <td>2021-04-07</td>\n",
       "    </tr>\n",
       "    <tr>\n",
       "      <th>12</th>\n",
       "      <td>Sinovac</td>\n",
       "      <td>700000</td>\n",
       "      <td>2021-04-10</td>\n",
       "    </tr>\n",
       "    <tr>\n",
       "      <th>13</th>\n",
       "      <td>Pfizer/BioNTech</td>\n",
       "      <td>53820</td>\n",
       "      <td>2021-04-14</td>\n",
       "    </tr>\n",
       "  </tbody>\n",
       "</table>\n",
       "</div>"
      ],
      "text/plain": [
       "               vaccine   total arrived_at\n",
       "0      Pfizer/BioNTech    8190 2021-01-20\n",
       "1      Pfizer/BioNTech   16380 2021-02-17\n",
       "2      Pfizer/BioNTech   17550 2021-02-24\n",
       "3      Pfizer/BioNTech   31590 2021-03-03\n",
       "4              Sinovac   20000 2021-03-06\n",
       "5      Pfizer/BioNTech   73710 2021-03-10\n",
       "6   Oxford/AstraZeneca   84000 2021-03-17\n",
       "7      Pfizer/BioNTech   62010 2021-03-17\n",
       "8      Pfizer/BioNTech   65520 2021-03-24\n",
       "9      Pfizer/BioNTech   66690 2021-03-31\n",
       "10     Pfizer/BioNTech   53820 2021-04-05\n",
       "11             Sinovac  300000 2021-04-07\n",
       "12             Sinovac  700000 2021-04-10\n",
       "13     Pfizer/BioNTech   53820 2021-04-14"
      ]
     },
     "execution_count": 6,
     "metadata": {},
     "output_type": "execute_result"
    }
   ],
   "source": [
    "dfab = pd.read_csv('in/fabricantes.csv', sep = ',')\n",
    "dfab['arrived_at'] =  pd.to_datetime(dfab['arrived_at'], infer_datetime_format=True)\n",
    "dfab=dfab.loc[(dfab['arrived_at'] >= fecha_inicio) & (dfab['arrived_at'] <= fecha_fin)]\n",
    "dfab"
   ]
  },
  {
   "cell_type": "code",
   "execution_count": 7,
   "id": "41bedaa4",
   "metadata": {
    "execution": {
     "iopub.execute_input": "2021-05-11T03:04:38.612611Z",
     "iopub.status.busy": "2021-05-11T03:04:38.611645Z",
     "iopub.status.idle": "2021-05-11T03:04:38.614611Z",
     "shell.execute_reply": "2021-05-11T03:04:38.613612Z"
    },
    "papermill": {
     "duration": 0.040705,
     "end_time": "2021-05-11T03:04:38.614611",
     "exception": false,
     "start_time": "2021-05-11T03:04:38.573906",
     "status": "completed"
    },
    "tags": []
   },
   "outputs": [],
   "source": [
    "df2 = dfab.groupby(('vaccine')).total.sum()"
   ]
  },
  {
   "cell_type": "code",
   "execution_count": 8,
   "id": "97afa3be",
   "metadata": {
    "execution": {
     "iopub.execute_input": "2021-05-11T03:04:38.681758Z",
     "iopub.status.busy": "2021-05-11T03:04:38.680761Z",
     "iopub.status.idle": "2021-05-11T03:04:38.854078Z",
     "shell.execute_reply": "2021-05-11T03:04:38.854078Z"
    },
    "papermill": {
     "duration": 0.206955,
     "end_time": "2021-05-11T03:04:38.854078",
     "exception": false,
     "start_time": "2021-05-11T03:04:38.647123",
     "status": "completed"
    },
    "tags": []
   },
   "outputs": [
    {
     "data": {
      "image/png": "[encoded data removed]",
      "text/plain": [
       "<Figure size 360x360 with 1 Axes>"
      ]
     },
     "metadata": {},
     "output_type": "display_data"
    }
   ],
   "source": [
    "plot = df2.plot.pie(y='mass', figsize=(5, 5),shadow = True,autopct=\"%0.1f %%\")"
   ]
  },
  {
   "cell_type": "markdown",
   "id": "192d7493",
   "metadata": {
    "papermill": {
     "duration": 0.03661,
     "end_time": "2021-05-11T03:04:38.928434",
     "exception": false,
     "start_time": "2021-05-11T03:04:38.891824",
     "status": "completed"
    },
    "tags": []
   },
   "source": [
    "## Parte 3 Generar histogramas de vacunas por mes de llega y fabricante.\n",
    "En esta parte del proyecto mostraremos la cantidad de vacunas por fabricante que llegaron cada mes, para posteriormente vacunar a los Ecuatorianos, en estas graficas podemos observar que la pfizer es la que mayor numero de vuelos tuvo pero en menor cantidad mientras que la Sinovac llegaron en 3 vuelos pero en mayor cantidad."
   ]
  },
  {
   "cell_type": "code",
   "execution_count": 9,
   "id": "149ca453",
   "metadata": {
    "execution": {
     "iopub.execute_input": "2021-05-11T03:04:39.015932Z",
     "iopub.status.busy": "2021-05-11T03:04:39.014934Z",
     "iopub.status.idle": "2021-05-11T03:04:39.019931Z",
     "shell.execute_reply": "2021-05-11T03:04:39.019931Z"
    },
    "papermill": {
     "duration": 0.059961,
     "end_time": "2021-05-11T03:04:39.021117",
     "exception": false,
     "start_time": "2021-05-11T03:04:38.961156",
     "status": "completed"
    },
    "tags": []
   },
   "outputs": [
    {
     "data": {
      "text/html": [
       "<div>\n",
       "<style scoped>\n",
       "    .dataframe tbody tr th:only-of-type {\n",
       "        vertical-align: middle;\n",
       "    }\n",
       "\n",
       "    .dataframe tbody tr th {\n",
       "        vertical-align: top;\n",
       "    }\n",
       "\n",
       "    .dataframe thead th {\n",
       "        text-align: right;\n",
       "    }\n",
       "</style>\n",
       "<table border=\"1\" class=\"dataframe\">\n",
       "  <thead>\n",
       "    <tr style=\"text-align: right;\">\n",
       "      <th></th>\n",
       "      <th>vaccine</th>\n",
       "      <th>arrived_at</th>\n",
       "      <th>total</th>\n",
       "    </tr>\n",
       "  </thead>\n",
       "  <tbody>\n",
       "    <tr>\n",
       "      <th>0</th>\n",
       "      <td>Oxford/AstraZeneca</td>\n",
       "      <td>2021-03-17</td>\n",
       "      <td>84000</td>\n",
       "    </tr>\n",
       "    <tr>\n",
       "      <th>1</th>\n",
       "      <td>Pfizer/BioNTech</td>\n",
       "      <td>2021-01-20</td>\n",
       "      <td>8190</td>\n",
       "    </tr>\n",
       "    <tr>\n",
       "      <th>2</th>\n",
       "      <td>Pfizer/BioNTech</td>\n",
       "      <td>2021-02-17</td>\n",
       "      <td>16380</td>\n",
       "    </tr>\n",
       "    <tr>\n",
       "      <th>3</th>\n",
       "      <td>Pfizer/BioNTech</td>\n",
       "      <td>2021-02-24</td>\n",
       "      <td>17550</td>\n",
       "    </tr>\n",
       "    <tr>\n",
       "      <th>4</th>\n",
       "      <td>Pfizer/BioNTech</td>\n",
       "      <td>2021-03-03</td>\n",
       "      <td>31590</td>\n",
       "    </tr>\n",
       "    <tr>\n",
       "      <th>5</th>\n",
       "      <td>Pfizer/BioNTech</td>\n",
       "      <td>2021-03-10</td>\n",
       "      <td>73710</td>\n",
       "    </tr>\n",
       "    <tr>\n",
       "      <th>6</th>\n",
       "      <td>Pfizer/BioNTech</td>\n",
       "      <td>2021-03-17</td>\n",
       "      <td>62010</td>\n",
       "    </tr>\n",
       "    <tr>\n",
       "      <th>7</th>\n",
       "      <td>Pfizer/BioNTech</td>\n",
       "      <td>2021-03-24</td>\n",
       "      <td>65520</td>\n",
       "    </tr>\n",
       "    <tr>\n",
       "      <th>8</th>\n",
       "      <td>Pfizer/BioNTech</td>\n",
       "      <td>2021-03-31</td>\n",
       "      <td>66690</td>\n",
       "    </tr>\n",
       "    <tr>\n",
       "      <th>9</th>\n",
       "      <td>Pfizer/BioNTech</td>\n",
       "      <td>2021-04-05</td>\n",
       "      <td>53820</td>\n",
       "    </tr>\n",
       "    <tr>\n",
       "      <th>10</th>\n",
       "      <td>Pfizer/BioNTech</td>\n",
       "      <td>2021-04-14</td>\n",
       "      <td>53820</td>\n",
       "    </tr>\n",
       "    <tr>\n",
       "      <th>11</th>\n",
       "      <td>Sinovac</td>\n",
       "      <td>2021-03-06</td>\n",
       "      <td>20000</td>\n",
       "    </tr>\n",
       "    <tr>\n",
       "      <th>12</th>\n",
       "      <td>Sinovac</td>\n",
       "      <td>2021-04-07</td>\n",
       "      <td>300000</td>\n",
       "    </tr>\n",
       "    <tr>\n",
       "      <th>13</th>\n",
       "      <td>Sinovac</td>\n",
       "      <td>2021-04-10</td>\n",
       "      <td>700000</td>\n",
       "    </tr>\n",
       "  </tbody>\n",
       "</table>\n",
       "</div>"
      ],
      "text/plain": [
       "               vaccine arrived_at   total\n",
       "0   Oxford/AstraZeneca 2021-03-17   84000\n",
       "1      Pfizer/BioNTech 2021-01-20    8190\n",
       "2      Pfizer/BioNTech 2021-02-17   16380\n",
       "3      Pfizer/BioNTech 2021-02-24   17550\n",
       "4      Pfizer/BioNTech 2021-03-03   31590\n",
       "5      Pfizer/BioNTech 2021-03-10   73710\n",
       "6      Pfizer/BioNTech 2021-03-17   62010\n",
       "7      Pfizer/BioNTech 2021-03-24   65520\n",
       "8      Pfizer/BioNTech 2021-03-31   66690\n",
       "9      Pfizer/BioNTech 2021-04-05   53820\n",
       "10     Pfizer/BioNTech 2021-04-14   53820\n",
       "11             Sinovac 2021-03-06   20000\n",
       "12             Sinovac 2021-04-07  300000\n",
       "13             Sinovac 2021-04-10  700000"
      ]
     },
     "execution_count": 9,
     "metadata": {},
     "output_type": "execute_result"
    }
   ],
   "source": [
    "dfab3 = pd.read_csv('in/fabricantes.csv', sep = ',')\n",
    "dfab3['arrived_at'] =  pd.to_datetime(dfab3['arrived_at'], infer_datetime_format=True)\n",
    "dfab3=dfab3.loc[(dfab3['arrived_at'] >= fecha_inicio) & (dfab3['arrived_at'] <= fecha_fin)]\n",
    "dfab3= dfab3.groupby(['vaccine','arrived_at'],as_index=False)['total'].sum()\n",
    "dfab3"
   ]
  },
  {
   "cell_type": "markdown",
   "id": "5d700970",
   "metadata": {
    "papermill": {
     "duration": 0.034586,
     "end_time": "2021-05-11T03:04:39.094161",
     "exception": false,
     "start_time": "2021-05-11T03:04:39.059575",
     "status": "completed"
    },
    "tags": []
   },
   "source": [
    "# Pfizer\n",
    "Aqui se nos mostrara en comparacion con la fecha Ingresada el numero de vacunas que llegaron de pfizer."
   ]
  },
  {
   "cell_type": "code",
   "execution_count": 10,
   "id": "452ed4d5",
   "metadata": {
    "execution": {
     "iopub.execute_input": "2021-05-11T03:04:39.171880Z",
     "iopub.status.busy": "2021-05-11T03:04:39.170882Z",
     "iopub.status.idle": "2021-05-11T03:04:39.175883Z",
     "shell.execute_reply": "2021-05-11T03:04:39.174884Z"
    },
    "papermill": {
     "duration": 0.045724,
     "end_time": "2021-05-11T03:04:39.175883",
     "exception": false,
     "start_time": "2021-05-11T03:04:39.130159",
     "status": "completed"
    },
    "tags": []
   },
   "outputs": [],
   "source": [
    "pfizer=dfab3.loc[(dfab3['vaccine'] == 'Pfizer/BioNTech')]"
   ]
  },
  {
   "cell_type": "code",
   "execution_count": 11,
   "id": "b6f448d6",
   "metadata": {
    "execution": {
     "iopub.execute_input": "2021-05-11T03:04:39.307125Z",
     "iopub.status.busy": "2021-05-11T03:04:39.306127Z",
     "iopub.status.idle": "2021-05-11T03:04:39.514299Z",
     "shell.execute_reply": "2021-05-11T03:04:39.514299Z"
    },
    "papermill": {
     "duration": 0.302738,
     "end_time": "2021-05-11T03:04:39.514299",
     "exception": false,
     "start_time": "2021-05-11T03:04:39.211561",
     "status": "completed"
    },
    "tags": []
   },
   "outputs": [
    {
     "data": {
      "image/png": "[encoded data removed]",
      "text/plain": [
       "<Figure size 432x288 with 1 Axes>"
      ]
     },
     "metadata": {
      "needs_background": "light"
     },
     "output_type": "display_data"
    }
   ],
   "source": [
    "fecha = pfizer['arrived_at'].tolist()\n",
    "vacunas=pfizer['total'].tolist()\n",
    "plt.bar(fecha, vacunas)\n",
    "plt.title('Histograma de vacunas')\n",
    "plt.xlabel('fecha')\n",
    "plt.ylabel('vacunas')\n",
    "plt.xticks(rotation=60)\n",
    "plt.show()"
   ]
  },
  {
   "cell_type": "markdown",
   "id": "2b91299d",
   "metadata": {
    "papermill": {
     "duration": 0.035422,
     "end_time": "2021-05-11T03:04:39.589336",
     "exception": false,
     "start_time": "2021-05-11T03:04:39.553914",
     "status": "completed"
    },
    "tags": []
   },
   "source": [
    "# Sinovac\n",
    "Aqui se nos mostrara en comparacion con la fecha Ingresada el numero de vacunas que llegaron de sinovac."
   ]
  },
  {
   "cell_type": "code",
   "execution_count": 12,
   "id": "743315d3",
   "metadata": {
    "execution": {
     "iopub.execute_input": "2021-05-11T03:04:39.667250Z",
     "iopub.status.busy": "2021-05-11T03:04:39.666195Z",
     "iopub.status.idle": "2021-05-11T03:04:39.669194Z",
     "shell.execute_reply": "2021-05-11T03:04:39.670384Z"
    },
    "papermill": {
     "duration": 0.047497,
     "end_time": "2021-05-11T03:04:39.670384",
     "exception": false,
     "start_time": "2021-05-11T03:04:39.622887",
     "status": "completed"
    },
    "tags": []
   },
   "outputs": [],
   "source": [
    "sinovac=dfab3.loc[(dfab3['vaccine'] == 'Sinovac')]"
   ]
  },
  {
   "cell_type": "code",
   "execution_count": 13,
   "id": "946f2794",
   "metadata": {
    "execution": {
     "iopub.execute_input": "2021-05-11T03:04:39.765367Z",
     "iopub.status.busy": "2021-05-11T03:04:39.764370Z",
     "iopub.status.idle": "2021-05-11T03:04:40.019226Z",
     "shell.execute_reply": "2021-05-11T03:04:40.018223Z"
    },
    "papermill": {
     "duration": 0.317412,
     "end_time": "2021-05-11T03:04:40.019226",
     "exception": false,
     "start_time": "2021-05-11T03:04:39.701814",
     "status": "completed"
    },
    "tags": []
   },
   "outputs": [
    {
     "data": {
      "image/png": "[encoded data removed]",
      "text/plain": [
       "<Figure size 432x288 with 1 Axes>"
      ]
     },
     "metadata": {
      "needs_background": "light"
     },
     "output_type": "display_data"
    }
   ],
   "source": [
    "fecha = sinovac['arrived_at'].tolist()\n",
    "vacunas=sinovac['total'].tolist()\n",
    "plt.bar(fecha, vacunas)\n",
    "plt.title('Histograma de vacunas')\n",
    "plt.xlabel('fecha')\n",
    "plt.ylabel('vacunas')\n",
    "plt.xticks(rotation=60)\n",
    "plt.show()"
   ]
  },
  {
   "cell_type": "markdown",
   "id": "a10408df",
   "metadata": {
    "papermill": {
     "duration": 0.039651,
     "end_time": "2021-05-11T03:04:40.094167",
     "exception": false,
     "start_time": "2021-05-11T03:04:40.054516",
     "status": "completed"
    },
    "tags": []
   },
   "source": [
    "# Astrazeneca\n",
    "Aqui se nos mostrara en comparacion con la fecha Ingresada el numero de vacunas que llegaron de Astrazeneca."
   ]
  },
  {
   "cell_type": "code",
   "execution_count": 14,
   "id": "bb987782",
   "metadata": {
    "execution": {
     "iopub.execute_input": "2021-05-11T03:04:40.177589Z",
     "iopub.status.busy": "2021-05-11T03:04:40.176584Z",
     "iopub.status.idle": "2021-05-11T03:04:40.179588Z",
     "shell.execute_reply": "2021-05-11T03:04:40.180884Z"
    },
    "papermill": {
     "duration": 0.048076,
     "end_time": "2021-05-11T03:04:40.180884",
     "exception": false,
     "start_time": "2021-05-11T03:04:40.132808",
     "status": "completed"
    },
    "tags": []
   },
   "outputs": [],
   "source": [
    "astra=dfab3.loc[(dfab3['vaccine'] == 'Oxford/AstraZeneca')]"
   ]
  },
  {
   "cell_type": "code",
   "execution_count": 15,
   "id": "e3e7c0d8",
   "metadata": {
    "execution": {
     "iopub.execute_input": "2021-05-11T03:04:40.311872Z",
     "iopub.status.busy": "2021-05-11T03:04:40.310872Z",
     "iopub.status.idle": "2021-05-11T03:04:40.539029Z",
     "shell.execute_reply": "2021-05-11T03:04:40.540330Z"
    },
    "papermill": {
     "duration": 0.326081,
     "end_time": "2021-05-11T03:04:40.541338",
     "exception": false,
     "start_time": "2021-05-11T03:04:40.215257",
     "status": "completed"
    },
    "tags": []
   },
   "outputs": [
    {
     "data": {
      "image/png": "[encoded data removed]",
      "text/plain": [
       "<Figure size 432x288 with 1 Axes>"
      ]
     },
     "metadata": {
      "needs_background": "light"
     },
     "output_type": "display_data"
    }
   ],
   "source": [
    "fecha = astra['arrived_at'].tolist()\n",
    "vacunas=astra['total'].tolist()\n",
    "plt.bar(fecha, vacunas)\n",
    "plt.title('Histograma de vacunas')\n",
    "plt.xlabel('fecha')\n",
    "plt.ylabel('vacunas')\n",
    "plt.xticks(rotation=60)\n",
    "plt.show()"
   ]
  },
  {
   "cell_type": "markdown",
   "id": "00215f36",
   "metadata": {
    "papermill": {
     "duration": 0.038067,
     "end_time": "2021-05-11T03:04:40.627086",
     "exception": false,
     "start_time": "2021-05-11T03:04:40.589019",
     "status": "completed"
    },
    "tags": []
   },
   "source": [
    "## Modelo de Regresion\n",
    "\n",
    "Generar un modelo matemático de predicción basado en regresión, del procesos de vacunación en base al numero actual de vacunados (1 y 2 dosis) y a la llegada de nuevas vacunas.\n",
    "\n",
    "El modelo de regresión determina la relación que tiene una variable dependiente, con respecto a otras variables independientes, en esta práctica vamos a realizar un modelo de predicción de vacunados, en nuestro ejemplo tomaremos en cuenta la primera dosis, para calcular en el país que día ya se han vacunado al menos una vez, toda la población ecuatoriana, como también haremos un modelo de predicción para calcular que día se vacunaran todos en el Ecuador con las dos dosis."
   ]
  },
  {
   "cell_type": "code",
   "execution_count": 16,
   "id": "f9847d68",
   "metadata": {
    "execution": {
     "iopub.execute_input": "2021-05-11T03:04:40.704538Z",
     "iopub.status.busy": "2021-05-11T03:04:40.703536Z",
     "iopub.status.idle": "2021-05-11T03:04:42.330485Z",
     "shell.execute_reply": "2021-05-11T03:04:42.330702Z"
    },
    "papermill": {
     "duration": 1.666006,
     "end_time": "2021-05-11T03:04:42.330702",
     "exception": false,
     "start_time": "2021-05-11T03:04:40.664696",
     "status": "completed"
    },
    "tags": []
   },
   "outputs": [],
   "source": [
    "from sklearn.linear_model import LinearRegression\n",
    "from sklearn.pipeline import Pipeline\n",
    "from datetime import datetime, timedelta\n",
    "from sklearn.model_selection import train_test_split\n",
    "import time\n"
   ]
  },
  {
   "cell_type": "code",
   "execution_count": 17,
   "id": "a8871d0e",
   "metadata": {
    "execution": {
     "iopub.execute_input": "2021-05-11T03:04:42.412080Z",
     "iopub.status.busy": "2021-05-11T03:04:42.406900Z",
     "iopub.status.idle": "2021-05-11T03:04:42.418073Z",
     "shell.execute_reply": "2021-05-11T03:04:42.419074Z"
    },
    "papermill": {
     "duration": 0.054848,
     "end_time": "2021-05-11T03:04:42.419074",
     "exception": false,
     "start_time": "2021-05-11T03:04:42.364226",
     "status": "completed"
    },
    "tags": []
   },
   "outputs": [
    {
     "name": "stdout",
     "output_type": "stream",
     "text": [
      "        fecha  dosis_total  primera_dosis  segunda_dosis\n",
      "0  21/01/2021            0              0              0\n",
      "1  22/01/2021          108            108              0\n",
      "2  27/01/2021         2982           2982              0\n",
      "3  04/02/2021         6228           6228              0\n",
      "4  17/02/2021         8190           6228           1962\n"
     ]
    }
   ],
   "source": [
    "dfr = pd.read_csv('in/vacunas.csv', sep = ',')\n",
    "print(dfr.head())"
   ]
  },
  {
   "cell_type": "code",
   "execution_count": 18,
   "id": "a28e181e",
   "metadata": {
    "execution": {
     "iopub.execute_input": "2021-05-11T03:04:42.500859Z",
     "iopub.status.busy": "2021-05-11T03:04:42.499853Z",
     "iopub.status.idle": "2021-05-11T03:04:42.505859Z",
     "shell.execute_reply": "2021-05-11T03:04:42.505859Z"
    },
    "papermill": {
     "duration": 0.055124,
     "end_time": "2021-05-11T03:04:42.506890",
     "exception": false,
     "start_time": "2021-05-11T03:04:42.451766",
     "status": "completed"
    },
    "tags": []
   },
   "outputs": [
    {
     "data": {
      "text/html": [
       "<div>\n",
       "<style scoped>\n",
       "    .dataframe tbody tr th:only-of-type {\n",
       "        vertical-align: middle;\n",
       "    }\n",
       "\n",
       "    .dataframe tbody tr th {\n",
       "        vertical-align: top;\n",
       "    }\n",
       "\n",
       "    .dataframe thead th {\n",
       "        text-align: right;\n",
       "    }\n",
       "</style>\n",
       "<table border=\"1\" class=\"dataframe\">\n",
       "  <thead>\n",
       "    <tr style=\"text-align: right;\">\n",
       "      <th></th>\n",
       "      <th>fecha</th>\n",
       "      <th>dosis_total</th>\n",
       "      <th>primera_dosis</th>\n",
       "      <th>segunda_dosis</th>\n",
       "      <th>dia</th>\n",
       "    </tr>\n",
       "  </thead>\n",
       "  <tbody>\n",
       "    <tr>\n",
       "      <th>0</th>\n",
       "      <td>21/01/2021</td>\n",
       "      <td>0</td>\n",
       "      <td>0</td>\n",
       "      <td>0</td>\n",
       "      <td>20</td>\n",
       "    </tr>\n",
       "    <tr>\n",
       "      <th>1</th>\n",
       "      <td>22/01/2021</td>\n",
       "      <td>108</td>\n",
       "      <td>108</td>\n",
       "      <td>0</td>\n",
       "      <td>21</td>\n",
       "    </tr>\n",
       "    <tr>\n",
       "      <th>2</th>\n",
       "      <td>27/01/2021</td>\n",
       "      <td>2982</td>\n",
       "      <td>2982</td>\n",
       "      <td>0</td>\n",
       "      <td>26</td>\n",
       "    </tr>\n",
       "    <tr>\n",
       "      <th>3</th>\n",
       "      <td>04/02/2021</td>\n",
       "      <td>6228</td>\n",
       "      <td>6228</td>\n",
       "      <td>0</td>\n",
       "      <td>34</td>\n",
       "    </tr>\n",
       "    <tr>\n",
       "      <th>4</th>\n",
       "      <td>17/02/2021</td>\n",
       "      <td>8190</td>\n",
       "      <td>6228</td>\n",
       "      <td>1962</td>\n",
       "      <td>47</td>\n",
       "    </tr>\n",
       "  </tbody>\n",
       "</table>\n",
       "</div>"
      ],
      "text/plain": [
       "        fecha  dosis_total  primera_dosis  segunda_dosis  dia\n",
       "0  21/01/2021            0              0              0   20\n",
       "1  22/01/2021          108            108              0   21\n",
       "2  27/01/2021         2982           2982              0   26\n",
       "3  04/02/2021         6228           6228              0   34\n",
       "4  17/02/2021         8190           6228           1962   47"
      ]
     },
     "execution_count": 18,
     "metadata": {},
     "output_type": "execute_result"
    }
   ],
   "source": [
    "from datetime import datetime,timedelta\n",
    "import datetime as dt\n",
    "FMT = '%d/%m/%Y'\n",
    "dfr['dia'] = dfr['fecha'].map(lambda x : (datetime.strptime(x, FMT) - datetime.strptime(\"01/01/2021\", FMT)).days)\n",
    "dfr.head()"
   ]
  },
  {
   "cell_type": "code",
   "execution_count": 19,
   "id": "fc9db859",
   "metadata": {
    "execution": {
     "iopub.execute_input": "2021-05-11T03:04:42.590995Z",
     "iopub.status.busy": "2021-05-11T03:04:42.589956Z",
     "iopub.status.idle": "2021-05-11T03:04:42.592957Z",
     "shell.execute_reply": "2021-05-11T03:04:42.593999Z"
    },
    "papermill": {
     "duration": 0.050026,
     "end_time": "2021-05-11T03:04:42.593999",
     "exception": false,
     "start_time": "2021-05-11T03:04:42.543973",
     "status": "completed"
    },
    "tags": []
   },
   "outputs": [],
   "source": [
    "x1 = dfr['dia'].values.reshape(-1,1)\n",
    "y1 = dfr['primera_dosis'].values.reshape(-1,1)\n",
    "X_train1, X_test1, y_train1, y_test1 = train_test_split(x1, y1, test_size=0.2, random_state=42) \n",
    "x2 = dfr['dia'].values.reshape(-1,1)\n",
    "y2 = dfr['segunda_dosis'].values.reshape(-1,1)\n",
    "X_train2, X_test2, y_train2, y_test2 = train_test_split(x2, y2, test_size=0.2, random_state=42) "
   ]
  },
  {
   "cell_type": "code",
   "execution_count": 20,
   "id": "67265dca",
   "metadata": {
    "execution": {
     "iopub.execute_input": "2021-05-11T03:04:42.670562Z",
     "iopub.status.busy": "2021-05-11T03:04:42.669339Z",
     "iopub.status.idle": "2021-05-11T03:04:42.675563Z",
     "shell.execute_reply": "2021-05-11T03:04:42.676605Z"
    },
    "papermill": {
     "duration": 0.049028,
     "end_time": "2021-05-11T03:04:42.676605",
     "exception": false,
     "start_time": "2021-05-11T03:04:42.627577",
     "status": "completed"
    },
    "tags": []
   },
   "outputs": [
    {
     "data": {
      "text/plain": [
       "LinearRegression()"
      ]
     },
     "execution_count": 20,
     "metadata": {},
     "output_type": "execute_result"
    }
   ],
   "source": [
    "from sklearn.linear_model import LinearRegression  \n",
    "regressor1 = LinearRegression()  \n",
    "regressor1.fit(X_train1, y_train1) \n",
    "regressor2 = LinearRegression()  \n",
    "regressor2.fit(X_train2, y_train2) "
   ]
  },
  {
   "cell_type": "code",
   "execution_count": 21,
   "id": "e21084af",
   "metadata": {
    "execution": {
     "iopub.execute_input": "2021-05-11T03:04:42.764303Z",
     "iopub.status.busy": "2021-05-11T03:04:42.763302Z",
     "iopub.status.idle": "2021-05-11T03:04:42.768336Z",
     "shell.execute_reply": "2021-05-11T03:04:42.767299Z"
    },
    "papermill": {
     "duration": 0.05398,
     "end_time": "2021-05-11T03:04:42.768336",
     "exception": false,
     "start_time": "2021-05-11T03:04:42.714356",
     "status": "completed"
    },
    "tags": []
   },
   "outputs": [
    {
     "data": {
      "text/html": [
       "<div>\n",
       "<style scoped>\n",
       "    .dataframe tbody tr th:only-of-type {\n",
       "        vertical-align: middle;\n",
       "    }\n",
       "\n",
       "    .dataframe tbody tr th {\n",
       "        vertical-align: top;\n",
       "    }\n",
       "\n",
       "    .dataframe thead th {\n",
       "        text-align: right;\n",
       "    }\n",
       "</style>\n",
       "<table border=\"1\" class=\"dataframe\">\n",
       "  <thead>\n",
       "    <tr style=\"text-align: right;\">\n",
       "      <th></th>\n",
       "      <th>Actual</th>\n",
       "      <th>Predicted</th>\n",
       "    </tr>\n",
       "  </thead>\n",
       "  <tbody>\n",
       "    <tr>\n",
       "      <th>0</th>\n",
       "      <td>338180</td>\n",
       "      <td>460300.670628</td>\n",
       "    </tr>\n",
       "    <tr>\n",
       "      <th>1</th>\n",
       "      <td>633421</td>\n",
       "      <td>568686.123053</td>\n",
       "    </tr>\n",
       "    <tr>\n",
       "      <th>2</th>\n",
       "      <td>338180</td>\n",
       "      <td>451963.328133</td>\n",
       "    </tr>\n",
       "    <tr>\n",
       "      <th>3</th>\n",
       "      <td>791822</td>\n",
       "      <td>593698.150536</td>\n",
       "    </tr>\n",
       "    <tr>\n",
       "      <th>4</th>\n",
       "      <td>244159</td>\n",
       "      <td>385264.588179</td>\n",
       "    </tr>\n",
       "    <tr>\n",
       "      <th>5</th>\n",
       "      <td>541420</td>\n",
       "      <td>543674.095570</td>\n",
       "    </tr>\n",
       "    <tr>\n",
       "      <th>6</th>\n",
       "      <td>116948</td>\n",
       "      <td>176831.025823</td>\n",
       "    </tr>\n",
       "    <tr>\n",
       "      <th>7</th>\n",
       "      <td>174642</td>\n",
       "      <td>301891.163237</td>\n",
       "    </tr>\n",
       "    <tr>\n",
       "      <th>8</th>\n",
       "      <td>6228</td>\n",
       "      <td>-14927.851545</td>\n",
       "    </tr>\n",
       "    <tr>\n",
       "      <th>9</th>\n",
       "      <td>250631</td>\n",
       "      <td>401939.273168</td>\n",
       "    </tr>\n",
       "  </tbody>\n",
       "</table>\n",
       "</div>"
      ],
      "text/plain": [
       "   Actual      Predicted\n",
       "0  338180  460300.670628\n",
       "1  633421  568686.123053\n",
       "2  338180  451963.328133\n",
       "3  791822  593698.150536\n",
       "4  244159  385264.588179\n",
       "5  541420  543674.095570\n",
       "6  116948  176831.025823\n",
       "7  174642  301891.163237\n",
       "8    6228  -14927.851545\n",
       "9  250631  401939.273168"
      ]
     },
     "execution_count": 21,
     "metadata": {},
     "output_type": "execute_result"
    }
   ],
   "source": [
    "y_pred1 = regressor1.predict(X_test1)\n",
    "dfp = pd.DataFrame({'Actual': y_test1.flatten(), 'Predicted': y_pred1.flatten()}) \n",
    "dfp "
   ]
  },
  {
   "cell_type": "code",
   "execution_count": 22,
   "id": "502ebdfb",
   "metadata": {
    "execution": {
     "iopub.execute_input": "2021-05-11T03:04:42.962850Z",
     "iopub.status.busy": "2021-05-11T03:04:42.925161Z",
     "iopub.status.idle": "2021-05-11T03:04:42.966846Z",
     "shell.execute_reply": "2021-05-11T03:04:42.965850Z"
    },
    "papermill": {
     "duration": 0.158432,
     "end_time": "2021-05-11T03:04:42.966846",
     "exception": false,
     "start_time": "2021-05-11T03:04:42.808414",
     "status": "completed"
    },
    "tags": []
   },
   "outputs": [],
   "source": [
    "y_pred=0\n",
    "i = 126\n",
    "while y_pred < 17370000:\n",
    "    y_pred = regressor1.predict(np.array([[i]]))\n",
    "    y_pred = y_pred[0].round()[0]\n",
    "    i += 1"
   ]
  },
  {
   "cell_type": "code",
   "execution_count": 23,
   "id": "bb972334",
   "metadata": {
    "execution": {
     "iopub.execute_input": "2021-05-11T03:04:43.053853Z",
     "iopub.status.busy": "2021-05-11T03:04:43.052856Z",
     "iopub.status.idle": "2021-05-11T03:04:43.055892Z",
     "shell.execute_reply": "2021-05-11T03:04:43.055892Z"
    },
    "papermill": {
     "duration": 0.051395,
     "end_time": "2021-05-11T03:04:43.055892",
     "exception": false,
     "start_time": "2021-05-11T03:04:43.004497",
     "status": "completed"
    },
    "tags": []
   },
   "outputs": [
    {
     "name": "stdout",
     "output_type": "stream",
     "text": [
      "17376769.0\n"
     ]
    }
   ],
   "source": [
    "print(y_pred)"
   ]
  },
  {
   "cell_type": "markdown",
   "id": "31ae99b5",
   "metadata": {
    "papermill": {
     "duration": 0.037555,
     "end_time": "2021-05-11T03:04:43.128764",
     "exception": false,
     "start_time": "2021-05-11T03:04:43.091209",
     "status": "completed"
    },
    "tags": []
   },
   "source": [
    "Como podemos observar la fecha en la que se predice que se tendría vacunado a todo el Ecuador con la primera dosis seria el día 05-11-2026."
   ]
  },
  {
   "cell_type": "code",
   "execution_count": 24,
   "id": "2bccfe99",
   "metadata": {
    "execution": {
     "iopub.execute_input": "2021-05-11T03:04:43.213433Z",
     "iopub.status.busy": "2021-05-11T03:04:43.212422Z",
     "iopub.status.idle": "2021-05-11T03:04:43.218423Z",
     "shell.execute_reply": "2021-05-11T03:04:43.218423Z"
    },
    "papermill": {
     "duration": 0.055125,
     "end_time": "2021-05-11T03:04:43.219461",
     "exception": false,
     "start_time": "2021-05-11T03:04:43.164336",
     "status": "completed"
    },
    "tags": []
   },
   "outputs": [
    {
     "data": {
      "text/plain": [
       "datetime.datetime(2026, 11, 5, 0, 0)"
      ]
     },
     "execution_count": 24,
     "metadata": {},
     "output_type": "execute_result"
    }
   ],
   "source": [
    "primeraFechaValida=datetime.strptime(\"01/01/2021\", FMT)\n",
    "ultimaVacuna = primeraFechaValida + dt.timedelta(days=np.float64(i))\n",
    "ultimaVacuna"
   ]
  },
  {
   "cell_type": "code",
   "execution_count": 25,
   "id": "0839ef98",
   "metadata": {
    "execution": {
     "iopub.execute_input": "2021-05-11T03:04:43.340582Z",
     "iopub.status.busy": "2021-05-11T03:04:43.338435Z",
     "iopub.status.idle": "2021-05-11T03:04:43.578277Z",
     "shell.execute_reply": "2021-05-11T03:04:43.578277Z"
    },
    "papermill": {
     "duration": 0.324185,
     "end_time": "2021-05-11T03:04:43.579274",
     "exception": false,
     "start_time": "2021-05-11T03:04:43.255089",
     "status": "completed"
    },
    "tags": []
   },
   "outputs": [],
   "source": [
    "y_pred2=0\n",
    "i2 = 126\n",
    "while y_pred2 < 17370000:\n",
    "    y_pred2 = regressor2.predict(np.array([[i2]]))\n",
    "    y_pred2 = y_pred2[0].round()[0]\n",
    "    i2 += 1"
   ]
  },
  {
   "cell_type": "code",
   "execution_count": 26,
   "id": "83c75b9a",
   "metadata": {
    "execution": {
     "iopub.execute_input": "2021-05-11T03:04:43.660542Z",
     "iopub.status.busy": "2021-05-11T03:04:43.660399Z",
     "iopub.status.idle": "2021-05-11T03:04:43.663559Z",
     "shell.execute_reply": "2021-05-11T03:04:43.664582Z"
    },
    "papermill": {
     "duration": 0.046171,
     "end_time": "2021-05-11T03:04:43.664582",
     "exception": false,
     "start_time": "2021-05-11T03:04:43.618411",
     "status": "completed"
    },
    "tags": []
   },
   "outputs": [
    {
     "name": "stdout",
     "output_type": "stream",
     "text": [
      "17372483.0\n"
     ]
    }
   ],
   "source": [
    "print(y_pred2)"
   ]
  },
  {
   "cell_type": "markdown",
   "id": "e65f5e83",
   "metadata": {
    "papermill": {
     "duration": 0.038546,
     "end_time": "2021-05-11T03:04:43.738763",
     "exception": false,
     "start_time": "2021-05-11T03:04:43.700217",
     "status": "completed"
    },
    "tags": []
   },
   "source": [
    "Como podemos observar la fecha en la que se predice que se tendría vacunado a todo el Ecuador con la segunda dosis seria el día 17-06-2037\n",
    "."
   ]
  },
  {
   "cell_type": "code",
   "execution_count": 27,
   "id": "522344c0",
   "metadata": {
    "execution": {
     "iopub.execute_input": "2021-05-11T03:04:43.824293Z",
     "iopub.status.busy": "2021-05-11T03:04:43.823288Z",
     "iopub.status.idle": "2021-05-11T03:04:43.827284Z",
     "shell.execute_reply": "2021-05-11T03:04:43.828324Z"
    },
    "papermill": {
     "duration": 0.047691,
     "end_time": "2021-05-11T03:04:43.828324",
     "exception": false,
     "start_time": "2021-05-11T03:04:43.780633",
     "status": "completed"
    },
    "tags": []
   },
   "outputs": [
    {
     "data": {
      "text/plain": [
       "datetime.datetime(2037, 6, 17, 0, 0)"
      ]
     },
     "execution_count": 27,
     "metadata": {},
     "output_type": "execute_result"
    }
   ],
   "source": [
    "primeraFechaValida=datetime.strptime(\"01/01/2021\", FMT)\n",
    "ultimaVacuna = primeraFechaValida + dt.timedelta(days=np.float64(i2))\n",
    "ultimaVacuna"
   ]
  },
  {
   "cell_type": "markdown",
   "id": "47867fed",
   "metadata": {
    "papermill": {
     "duration": 0.036969,
     "end_time": "2021-05-11T03:04:43.902622",
     "exception": false,
     "start_time": "2021-05-11T03:04:43.865653",
     "status": "completed"
    },
    "tags": []
   },
   "source": [
    "## Comparacion con otros paises\n",
    "Desarrollar y generar un proceso de comparación con al menos dos países (1. Latinoamérica,  1. Europa).\n",
    "Nosotros vamos a comparar los Países de Uruguay y Bélgica respectivamente, con esta relación procederemos a comparar como fue la vacunación en dichos países con un modelo de regresión, para poder predecir qué fecha tentativa terminaría la vacunación.\n",
    "Como podemos ver entre los países que estamos comparando, la fecha de inicio de vacunación en Bélgica, es relativamente temprana a comparación con los otros países. "
   ]
  },
  {
   "cell_type": "code",
   "execution_count": 28,
   "id": "f359a1c9",
   "metadata": {
    "execution": {
     "iopub.execute_input": "2021-05-11T03:04:44.026963Z",
     "iopub.status.busy": "2021-05-11T03:04:44.022000Z",
     "iopub.status.idle": "2021-05-11T03:04:44.031081Z",
     "shell.execute_reply": "2021-05-11T03:04:44.030080Z"
    },
    "papermill": {
     "duration": 0.057973,
     "end_time": "2021-05-11T03:04:44.031081",
     "exception": false,
     "start_time": "2021-05-11T03:04:43.973108",
     "status": "completed"
    },
    "tags": []
   },
   "outputs": [
    {
     "name": "stdout",
     "output_type": "stream",
     "text": [
      "        fecha  dosis_total  primera_dosis  segunda_dosis\n",
      "0  21/01/2021            0              0              0\n",
      "1  22/01/2021          108            108              0\n",
      "2  27/01/2021         2982           2982              0\n",
      "3  04/02/2021         6228           6228              0\n",
      "4  17/02/2021         8190           6228           1962\n"
     ]
    }
   ],
   "source": [
    "dfecu = pd.read_csv('in/vacunas.csv', sep = ',')\n",
    "print(dfecu.head())"
   ]
  },
  {
   "cell_type": "code",
   "execution_count": 29,
   "id": "f0433104",
   "metadata": {
    "execution": {
     "iopub.execute_input": "2021-05-11T03:04:44.116078Z",
     "iopub.status.busy": "2021-05-11T03:04:44.115080Z",
     "iopub.status.idle": "2021-05-11T03:04:44.129076Z",
     "shell.execute_reply": "2021-05-11T03:04:44.130078Z"
    },
    "papermill": {
     "duration": 0.061396,
     "end_time": "2021-05-11T03:04:44.130078",
     "exception": false,
     "start_time": "2021-05-11T03:04:44.068682",
     "status": "completed"
    },
    "tags": []
   },
   "outputs": [
    {
     "data": {
      "text/html": [
       "<div>\n",
       "<style scoped>\n",
       "    .dataframe tbody tr th:only-of-type {\n",
       "        vertical-align: middle;\n",
       "    }\n",
       "\n",
       "    .dataframe tbody tr th {\n",
       "        vertical-align: top;\n",
       "    }\n",
       "\n",
       "    .dataframe thead th {\n",
       "        text-align: right;\n",
       "    }\n",
       "</style>\n",
       "<table border=\"1\" class=\"dataframe\">\n",
       "  <thead>\n",
       "    <tr style=\"text-align: right;\">\n",
       "      <th></th>\n",
       "      <th>location</th>\n",
       "      <th>date</th>\n",
       "      <th>vaccine</th>\n",
       "      <th>source_url</th>\n",
       "      <th>total_vaccinations</th>\n",
       "      <th>people_vaccinated</th>\n",
       "      <th>people_fully_vaccinated</th>\n",
       "    </tr>\n",
       "  </thead>\n",
       "  <tbody>\n",
       "    <tr>\n",
       "      <th>0</th>\n",
       "      <td>Uruguay</td>\n",
       "      <td>2021-02-27</td>\n",
       "      <td>Sinovac</td>\n",
       "      <td>https://monitor.uruguaysevacuna.gub.uy/</td>\n",
       "      <td>374</td>\n",
       "      <td>374</td>\n",
       "      <td>0</td>\n",
       "    </tr>\n",
       "    <tr>\n",
       "      <th>1</th>\n",
       "      <td>Uruguay</td>\n",
       "      <td>2021-02-28</td>\n",
       "      <td>Sinovac</td>\n",
       "      <td>https://monitor.uruguaysevacuna.gub.uy/</td>\n",
       "      <td>375</td>\n",
       "      <td>375</td>\n",
       "      <td>0</td>\n",
       "    </tr>\n",
       "    <tr>\n",
       "      <th>2</th>\n",
       "      <td>Uruguay</td>\n",
       "      <td>2021-03-01</td>\n",
       "      <td>Sinovac</td>\n",
       "      <td>https://monitor.uruguaysevacuna.gub.uy/</td>\n",
       "      <td>18395</td>\n",
       "      <td>18395</td>\n",
       "      <td>0</td>\n",
       "    </tr>\n",
       "    <tr>\n",
       "      <th>3</th>\n",
       "      <td>Uruguay</td>\n",
       "      <td>2021-03-02</td>\n",
       "      <td>Sinovac</td>\n",
       "      <td>https://monitor.uruguaysevacuna.gub.uy/</td>\n",
       "      <td>33125</td>\n",
       "      <td>33125</td>\n",
       "      <td>0</td>\n",
       "    </tr>\n",
       "    <tr>\n",
       "      <th>4</th>\n",
       "      <td>Uruguay</td>\n",
       "      <td>2021-03-03</td>\n",
       "      <td>Sinovac</td>\n",
       "      <td>https://monitor.uruguaysevacuna.gub.uy/</td>\n",
       "      <td>54421</td>\n",
       "      <td>54421</td>\n",
       "      <td>0</td>\n",
       "    </tr>\n",
       "  </tbody>\n",
       "</table>\n",
       "</div>"
      ],
      "text/plain": [
       "  location        date  vaccine                               source_url  \\\n",
       "0  Uruguay  2021-02-27  Sinovac  https://monitor.uruguaysevacuna.gub.uy/   \n",
       "1  Uruguay  2021-02-28  Sinovac  https://monitor.uruguaysevacuna.gub.uy/   \n",
       "2  Uruguay  2021-03-01  Sinovac  https://monitor.uruguaysevacuna.gub.uy/   \n",
       "3  Uruguay  2021-03-02  Sinovac  https://monitor.uruguaysevacuna.gub.uy/   \n",
       "4  Uruguay  2021-03-03  Sinovac  https://monitor.uruguaysevacuna.gub.uy/   \n",
       "\n",
       "   total_vaccinations  people_vaccinated  people_fully_vaccinated  \n",
       "0                 374                374                        0  \n",
       "1                 375                375                        0  \n",
       "2               18395              18395                        0  \n",
       "3               33125              33125                        0  \n",
       "4               54421              54421                        0  "
      ]
     },
     "execution_count": 29,
     "metadata": {},
     "output_type": "execute_result"
    }
   ],
   "source": [
    "dfuru = pd.read_csv('in/uruguay.csv', sep = ',')\n",
    "dfuru.head()"
   ]
  },
  {
   "cell_type": "code",
   "execution_count": 30,
   "id": "6c4b8722",
   "metadata": {
    "execution": {
     "iopub.execute_input": "2021-05-11T03:04:44.226599Z",
     "iopub.status.busy": "2021-05-11T03:04:44.225601Z",
     "iopub.status.idle": "2021-05-11T03:04:44.240068Z",
     "shell.execute_reply": "2021-05-11T03:04:44.240068Z"
    },
    "papermill": {
     "duration": 0.06937,
     "end_time": "2021-05-11T03:04:44.241104",
     "exception": false,
     "start_time": "2021-05-11T03:04:44.171734",
     "status": "completed"
    },
    "tags": []
   },
   "outputs": [
    {
     "data": {
      "text/html": [
       "<div>\n",
       "<style scoped>\n",
       "    .dataframe tbody tr th:only-of-type {\n",
       "        vertical-align: middle;\n",
       "    }\n",
       "\n",
       "    .dataframe tbody tr th {\n",
       "        vertical-align: top;\n",
       "    }\n",
       "\n",
       "    .dataframe thead th {\n",
       "        text-align: right;\n",
       "    }\n",
       "</style>\n",
       "<table border=\"1\" class=\"dataframe\">\n",
       "  <thead>\n",
       "    <tr style=\"text-align: right;\">\n",
       "      <th></th>\n",
       "      <th>location</th>\n",
       "      <th>date</th>\n",
       "      <th>vaccine</th>\n",
       "      <th>source_url</th>\n",
       "      <th>total_vaccinations</th>\n",
       "      <th>people_vaccinated</th>\n",
       "      <th>people_fully_vaccinated</th>\n",
       "    </tr>\n",
       "  </thead>\n",
       "  <tbody>\n",
       "    <tr>\n",
       "      <th>0</th>\n",
       "      <td>Belgium</td>\n",
       "      <td>2020-12-28</td>\n",
       "      <td>Pfizer/BioNTech</td>\n",
       "      <td>https://epistat.wiv-isp.be/covid/</td>\n",
       "      <td>298</td>\n",
       "      <td>298</td>\n",
       "      <td>0</td>\n",
       "    </tr>\n",
       "    <tr>\n",
       "      <th>1</th>\n",
       "      <td>Belgium</td>\n",
       "      <td>2020-12-29</td>\n",
       "      <td>Pfizer/BioNTech</td>\n",
       "      <td>https://epistat.wiv-isp.be/covid/</td>\n",
       "      <td>299</td>\n",
       "      <td>299</td>\n",
       "      <td>0</td>\n",
       "    </tr>\n",
       "    <tr>\n",
       "      <th>2</th>\n",
       "      <td>Belgium</td>\n",
       "      <td>2020-12-30</td>\n",
       "      <td>Pfizer/BioNTech</td>\n",
       "      <td>https://epistat.wiv-isp.be/covid/</td>\n",
       "      <td>776</td>\n",
       "      <td>776</td>\n",
       "      <td>0</td>\n",
       "    </tr>\n",
       "    <tr>\n",
       "      <th>3</th>\n",
       "      <td>Belgium</td>\n",
       "      <td>2020-12-31</td>\n",
       "      <td>Pfizer/BioNTech</td>\n",
       "      <td>https://epistat.wiv-isp.be/covid/</td>\n",
       "      <td>786</td>\n",
       "      <td>786</td>\n",
       "      <td>0</td>\n",
       "    </tr>\n",
       "    <tr>\n",
       "      <th>4</th>\n",
       "      <td>Belgium</td>\n",
       "      <td>2021-01-01</td>\n",
       "      <td>Pfizer/BioNTech</td>\n",
       "      <td>https://epistat.wiv-isp.be/covid/</td>\n",
       "      <td>794</td>\n",
       "      <td>794</td>\n",
       "      <td>0</td>\n",
       "    </tr>\n",
       "  </tbody>\n",
       "</table>\n",
       "</div>"
      ],
      "text/plain": [
       "  location        date          vaccine                         source_url  \\\n",
       "0  Belgium  2020-12-28  Pfizer/BioNTech  https://epistat.wiv-isp.be/covid/   \n",
       "1  Belgium  2020-12-29  Pfizer/BioNTech  https://epistat.wiv-isp.be/covid/   \n",
       "2  Belgium  2020-12-30  Pfizer/BioNTech  https://epistat.wiv-isp.be/covid/   \n",
       "3  Belgium  2020-12-31  Pfizer/BioNTech  https://epistat.wiv-isp.be/covid/   \n",
       "4  Belgium  2021-01-01  Pfizer/BioNTech  https://epistat.wiv-isp.be/covid/   \n",
       "\n",
       "   total_vaccinations  people_vaccinated  people_fully_vaccinated  \n",
       "0                 298                298                        0  \n",
       "1                 299                299                        0  \n",
       "2                 776                776                        0  \n",
       "3                 786                786                        0  \n",
       "4                 794                794                        0  "
      ]
     },
     "execution_count": 30,
     "metadata": {},
     "output_type": "execute_result"
    }
   ],
   "source": [
    "dfbel = pd.read_csv('in/belgium.csv', sep = ',')\n",
    "dfbel.head()"
   ]
  },
  {
   "cell_type": "code",
   "execution_count": 31,
   "id": "2b45b969",
   "metadata": {
    "execution": {
     "iopub.execute_input": "2021-05-11T03:04:44.337221Z",
     "iopub.status.busy": "2021-05-11T03:04:44.336174Z",
     "iopub.status.idle": "2021-05-11T03:04:44.340401Z",
     "shell.execute_reply": "2021-05-11T03:04:44.339168Z"
    },
    "papermill": {
     "duration": 0.059666,
     "end_time": "2021-05-11T03:04:44.340401",
     "exception": false,
     "start_time": "2021-05-11T03:04:44.280735",
     "status": "completed"
    },
    "tags": []
   },
   "outputs": [],
   "source": [
    "from datetime import datetime,timedelta\n",
    "import datetime as dt\n",
    "FMT = '%Y-%m-%d'\n",
    "FMTE = '%d/%m/%Y'\n",
    "dfuru['dia'] = dfuru['date'].map(lambda x : (datetime.strptime(x, FMT) - datetime.strptime(\"2020-12-28\", FMT)).days)\n",
    "dfbel['dia'] = dfbel['date'].map(lambda x : (datetime.strptime(x, FMT) - datetime.strptime(\"2020-12-28\", FMT)).days)\n",
    "dfecu['dia'] = dfecu['fecha'].map(lambda x : (datetime.strptime(x, FMTE) - datetime.strptime(\"28/12/2020\", FMTE)).days)"
   ]
  },
  {
   "cell_type": "code",
   "execution_count": 32,
   "id": "1ded34a1",
   "metadata": {
    "execution": {
     "iopub.execute_input": "2021-05-11T03:04:44.429390Z",
     "iopub.status.busy": "2021-05-11T03:04:44.428353Z",
     "iopub.status.idle": "2021-05-11T03:04:44.431559Z",
     "shell.execute_reply": "2021-05-11T03:04:44.432570Z"
    },
    "papermill": {
     "duration": 0.047917,
     "end_time": "2021-05-11T03:04:44.432570",
     "exception": false,
     "start_time": "2021-05-11T03:04:44.384653",
     "status": "completed"
    },
    "tags": []
   },
   "outputs": [],
   "source": [
    "xuru = dfuru['dia'].values.reshape(-1,1)\n",
    "yuru = dfuru['total_vaccinations'].values.reshape(-1,1)\n",
    "xbel = dfbel['dia'].values.reshape(-1,1)\n",
    "ybel = dfbel['total_vaccinations'].values.reshape(-1,1)\n",
    "xecu = dfecu['dia'].values.reshape(-1,1)\n",
    "yecu = dfecu['dosis_total'].values.reshape(-1,1)"
   ]
  },
  {
   "cell_type": "code",
   "execution_count": 33,
   "id": "fbc15d15",
   "metadata": {
    "execution": {
     "iopub.execute_input": "2021-05-11T03:04:44.518090Z",
     "iopub.status.busy": "2021-05-11T03:04:44.516058Z",
     "iopub.status.idle": "2021-05-11T03:04:44.521270Z",
     "shell.execute_reply": "2021-05-11T03:04:44.520233Z"
    },
    "papermill": {
     "duration": 0.050939,
     "end_time": "2021-05-11T03:04:44.521270",
     "exception": false,
     "start_time": "2021-05-11T03:04:44.470331",
     "status": "completed"
    },
    "tags": []
   },
   "outputs": [],
   "source": [
    "from sklearn.model_selection import train_test_split  \n",
    "X_trainuru, X_testuru, y_trainuru, y_testuru = train_test_split(xuru, yuru, test_size=0.2, random_state=0)\n",
    "X_trainbel, X_testbel, y_trainbel, y_testbel = train_test_split(xbel, ybel, test_size=0.2, random_state=0)\n",
    "X_trainecu, X_testecu, y_trainecu, y_testecu = train_test_split(xecu, yecu, test_size=0.2, random_state=0)"
   ]
  },
  {
   "cell_type": "code",
   "execution_count": 34,
   "id": "3c16ca79",
   "metadata": {
    "execution": {
     "iopub.execute_input": "2021-05-11T03:04:44.612116Z",
     "iopub.status.busy": "2021-05-11T03:04:44.611116Z",
     "iopub.status.idle": "2021-05-11T03:04:44.751489Z",
     "shell.execute_reply": "2021-05-11T03:04:44.751489Z"
    },
    "papermill": {
     "duration": 0.185,
     "end_time": "2021-05-11T03:04:44.751489",
     "exception": false,
     "start_time": "2021-05-11T03:04:44.566489",
     "status": "completed"
    },
    "tags": []
   },
   "outputs": [
    {
     "data": {
      "text/plain": [
       "RandomForestRegressor(n_estimators=10, random_state=0)"
      ]
     },
     "execution_count": 34,
     "metadata": {},
     "output_type": "execute_result"
    }
   ],
   "source": [
    "from sklearn.ensemble import RandomForestRegressor\n",
    "from sklearn.model_selection import train_test_split \n",
    "modeloRFuru = RandomForestRegressor(n_estimators=10, random_state=0)\n",
    "modeloRFuru.fit(X_trainuru, y_trainuru.ravel())\n",
    "modeloRFbel = RandomForestRegressor(n_estimators=10, random_state=0)\n",
    "modeloRFbel.fit(X_trainbel, y_trainbel.ravel())\n",
    "modeloRFecu = RandomForestRegressor(n_estimators=10, random_state=0)\n",
    "modeloRFecu.fit(X_trainecu, y_trainecu.ravel())"
   ]
  },
  {
   "cell_type": "code",
   "execution_count": 35,
   "id": "4c5d09c3",
   "metadata": {
    "execution": {
     "iopub.execute_input": "2021-05-11T03:04:44.843294Z",
     "iopub.status.busy": "2021-05-11T03:04:44.842292Z",
     "iopub.status.idle": "2021-05-11T03:04:44.860610Z",
     "shell.execute_reply": "2021-05-11T03:04:44.860610Z"
    },
    "papermill": {
     "duration": 0.070144,
     "end_time": "2021-05-11T03:04:44.861649",
     "exception": false,
     "start_time": "2021-05-11T03:04:44.791505",
     "status": "completed"
    },
    "tags": []
   },
   "outputs": [
    {
     "data": {
      "text/html": [
       "<div>\n",
       "<style scoped>\n",
       "    .dataframe tbody tr th:only-of-type {\n",
       "        vertical-align: middle;\n",
       "    }\n",
       "\n",
       "    .dataframe tbody tr th {\n",
       "        vertical-align: top;\n",
       "    }\n",
       "\n",
       "    .dataframe thead th {\n",
       "        text-align: right;\n",
       "    }\n",
       "</style>\n",
       "<table border=\"1\" class=\"dataframe\">\n",
       "  <thead>\n",
       "    <tr style=\"text-align: right;\">\n",
       "      <th></th>\n",
       "      <th>fecha</th>\n",
       "      <th>dia</th>\n",
       "    </tr>\n",
       "  </thead>\n",
       "  <tbody>\n",
       "    <tr>\n",
       "      <th>0</th>\n",
       "      <td>2020-12-18</td>\n",
       "      <td>0</td>\n",
       "    </tr>\n",
       "    <tr>\n",
       "      <th>1</th>\n",
       "      <td>2020-12-19</td>\n",
       "      <td>1</td>\n",
       "    </tr>\n",
       "    <tr>\n",
       "      <th>2</th>\n",
       "      <td>2020-12-20</td>\n",
       "      <td>2</td>\n",
       "    </tr>\n",
       "    <tr>\n",
       "      <th>3</th>\n",
       "      <td>2020-12-21</td>\n",
       "      <td>3</td>\n",
       "    </tr>\n",
       "    <tr>\n",
       "      <th>4</th>\n",
       "      <td>2020-12-22</td>\n",
       "      <td>4</td>\n",
       "    </tr>\n",
       "  </tbody>\n",
       "</table>\n",
       "</div>"
      ],
      "text/plain": [
       "        fecha  dia\n",
       "0  2020-12-18    0\n",
       "1  2020-12-19    1\n",
       "2  2020-12-20    2\n",
       "3  2020-12-21    3\n",
       "4  2020-12-22    4"
      ]
     },
     "execution_count": 35,
     "metadata": {},
     "output_type": "execute_result"
    }
   ],
   "source": [
    "inicio = datetime(2020,12,18)\n",
    "fin    = datetime(2021,5,9)\n",
    "lista_fechas = [(inicio + timedelta(days=d)).strftime(\"%Y-%m-%d\")\n",
    "                    for d in range((fin - inicio).days + 1)] \n",
    "dfnew = pd.DataFrame(list(zip(lista_fechas)), columns = ['fecha'])\n",
    "dfnew['fecha']=lista_fechas\n",
    "dfnew\n",
    "FMT = '%Y-%m-%d'\n",
    "dfnew['dia'] = dfnew['fecha'].map(lambda x : (datetime.strptime(x, FMT) - datetime.strptime(\"2020-12-18\", FMT)).days)\n",
    "dfnew.head()"
   ]
  },
  {
   "cell_type": "code",
   "execution_count": 36,
   "id": "17c62570",
   "metadata": {
    "execution": {
     "iopub.execute_input": "2021-05-11T03:04:45.042522Z",
     "iopub.status.busy": "2021-05-11T03:04:45.011051Z",
     "iopub.status.idle": "2021-05-11T03:04:45.494532Z",
     "shell.execute_reply": "2021-05-11T03:04:45.494532Z"
    },
    "papermill": {
     "duration": 0.590219,
     "end_time": "2021-05-11T03:04:45.495535",
     "exception": false,
     "start_time": "2021-05-11T03:04:44.905316",
     "status": "completed"
    },
    "tags": []
   },
   "outputs": [
    {
     "data": {
      "text/html": [
       "<div>\n",
       "<style scoped>\n",
       "    .dataframe tbody tr th:only-of-type {\n",
       "        vertical-align: middle;\n",
       "    }\n",
       "\n",
       "    .dataframe tbody tr th {\n",
       "        vertical-align: top;\n",
       "    }\n",
       "\n",
       "    .dataframe thead th {\n",
       "        text-align: right;\n",
       "    }\n",
       "</style>\n",
       "<table border=\"1\" class=\"dataframe\">\n",
       "  <thead>\n",
       "    <tr style=\"text-align: right;\">\n",
       "      <th></th>\n",
       "      <th>fecha</th>\n",
       "      <th>dia</th>\n",
       "      <th>uru</th>\n",
       "      <th>bel</th>\n",
       "      <th>ecu</th>\n",
       "    </tr>\n",
       "  </thead>\n",
       "  <tbody>\n",
       "    <tr>\n",
       "      <th>0</th>\n",
       "      <td>2020-12-18</td>\n",
       "      <td>0</td>\n",
       "      <td>[3649.4]</td>\n",
       "      <td>[298.6]</td>\n",
       "      <td>[942.6]</td>\n",
       "    </tr>\n",
       "    <tr>\n",
       "      <th>1</th>\n",
       "      <td>2020-12-19</td>\n",
       "      <td>1</td>\n",
       "      <td>[3649.4]</td>\n",
       "      <td>[298.8]</td>\n",
       "      <td>[942.6]</td>\n",
       "    </tr>\n",
       "    <tr>\n",
       "      <th>2</th>\n",
       "      <td>2020-12-20</td>\n",
       "      <td>2</td>\n",
       "      <td>[3649.4]</td>\n",
       "      <td>[347.6]</td>\n",
       "      <td>[942.6]</td>\n",
       "    </tr>\n",
       "    <tr>\n",
       "      <th>3</th>\n",
       "      <td>2020-12-21</td>\n",
       "      <td>3</td>\n",
       "      <td>[3649.4]</td>\n",
       "      <td>[741.3]</td>\n",
       "      <td>[942.6]</td>\n",
       "    </tr>\n",
       "    <tr>\n",
       "      <th>4</th>\n",
       "      <td>2020-12-22</td>\n",
       "      <td>4</td>\n",
       "      <td>[3649.4]</td>\n",
       "      <td>[742.9]</td>\n",
       "      <td>[942.6]</td>\n",
       "    </tr>\n",
       "    <tr>\n",
       "      <th>...</th>\n",
       "      <td>...</td>\n",
       "      <td>...</td>\n",
       "      <td>...</td>\n",
       "      <td>...</td>\n",
       "      <td>...</td>\n",
       "    </tr>\n",
       "    <tr>\n",
       "      <th>138</th>\n",
       "      <td>2021-05-05</td>\n",
       "      <td>138</td>\n",
       "      <td>[1986093.7]</td>\n",
       "      <td>[4512594.1]</td>\n",
       "      <td>[1198157.3]</td>\n",
       "    </tr>\n",
       "    <tr>\n",
       "      <th>139</th>\n",
       "      <td>2021-05-06</td>\n",
       "      <td>139</td>\n",
       "      <td>[1986093.7]</td>\n",
       "      <td>[4512594.1]</td>\n",
       "      <td>[1198157.3]</td>\n",
       "    </tr>\n",
       "    <tr>\n",
       "      <th>140</th>\n",
       "      <td>2021-05-07</td>\n",
       "      <td>140</td>\n",
       "      <td>[1986093.7]</td>\n",
       "      <td>[4512594.1]</td>\n",
       "      <td>[1198157.3]</td>\n",
       "    </tr>\n",
       "    <tr>\n",
       "      <th>141</th>\n",
       "      <td>2021-05-08</td>\n",
       "      <td>141</td>\n",
       "      <td>[1986093.7]</td>\n",
       "      <td>[4512594.1]</td>\n",
       "      <td>[1198157.3]</td>\n",
       "    </tr>\n",
       "    <tr>\n",
       "      <th>142</th>\n",
       "      <td>2021-05-09</td>\n",
       "      <td>142</td>\n",
       "      <td>[1986093.7]</td>\n",
       "      <td>[4512594.1]</td>\n",
       "      <td>[1198157.3]</td>\n",
       "    </tr>\n",
       "  </tbody>\n",
       "</table>\n",
       "<p>143 rows × 5 columns</p>\n",
       "</div>"
      ],
      "text/plain": [
       "          fecha  dia          uru          bel          ecu\n",
       "0    2020-12-18    0     [3649.4]      [298.6]      [942.6]\n",
       "1    2020-12-19    1     [3649.4]      [298.8]      [942.6]\n",
       "2    2020-12-20    2     [3649.4]      [347.6]      [942.6]\n",
       "3    2020-12-21    3     [3649.4]      [741.3]      [942.6]\n",
       "4    2020-12-22    4     [3649.4]      [742.9]      [942.6]\n",
       "..          ...  ...          ...          ...          ...\n",
       "138  2021-05-05  138  [1986093.7]  [4512594.1]  [1198157.3]\n",
       "139  2021-05-06  139  [1986093.7]  [4512594.1]  [1198157.3]\n",
       "140  2021-05-07  140  [1986093.7]  [4512594.1]  [1198157.3]\n",
       "141  2021-05-08  141  [1986093.7]  [4512594.1]  [1198157.3]\n",
       "142  2021-05-09  142  [1986093.7]  [4512594.1]  [1198157.3]\n",
       "\n",
       "[143 rows x 5 columns]"
      ]
     },
     "execution_count": 36,
     "metadata": {},
     "output_type": "execute_result"
    }
   ],
   "source": [
    "dfnew['uru'] = dfnew['dia'].map(lambda x : modeloRFuru.predict([[x]]))\n",
    "dfnew['bel'] = dfnew['dia'].map(lambda x : modeloRFbel.predict([[x]]))\n",
    "dfnew['ecu'] = dfnew['dia'].map(lambda x : modeloRFecu.predict([[x]]))\n",
    "dfnew"
   ]
  },
  {
   "cell_type": "code",
   "execution_count": 37,
   "id": "07b80a12",
   "metadata": {
    "execution": {
     "iopub.execute_input": "2021-05-11T03:04:45.615609Z",
     "iopub.status.busy": "2021-05-11T03:04:45.603377Z",
     "iopub.status.idle": "2021-05-11T03:04:45.856570Z",
     "shell.execute_reply": "2021-05-11T03:04:45.855580Z"
    },
    "papermill": {
     "duration": 0.312167,
     "end_time": "2021-05-11T03:04:45.857568",
     "exception": false,
     "start_time": "2021-05-11T03:04:45.545401",
     "status": "completed"
    },
    "tags": []
   },
   "outputs": [
    {
     "data": {
      "image/png": "[encoded data removed]",
      "text/plain": [
       "<Figure size 432x288 with 1 Axes>"
      ]
     },
     "metadata": {
      "needs_background": "light"
     },
     "output_type": "display_data"
    }
   ],
   "source": [
    "plt.plot(dfnew['dia'],dfnew['uru'],  '-', label = 'Predicción Uruguay', linewidth = 3)\n",
    "plt.plot(dfnew['dia'],dfnew['bel'],  '-', label = 'Predicción Belgica', linewidth = 3)\n",
    "plt.plot(dfnew['dia'],dfnew['ecu'],  '-', label = 'Predicción Ecuador', linewidth = 3)\n",
    "plt.title('Regresion')\n",
    "plt.xlabel('Año')\n",
    "plt.ylabel('PIB')\n",
    "plt.legend(loc=\"upper left\")\n",
    "plt.show()"
   ]
  }
 ],
 "metadata": {
  "celltoolbar": "Tags",
  "kernelspec": {
   "display_name": "Python 3",
   "language": "python",
   "name": "python3"
  },
  "language_info": {
   "codemirror_mode": {
    "name": "ipython",
    "version": 3
   },
   "file_extension": ".py",
   "mimetype": "text/x-python",
   "name": "python",
   "nbconvert_exporter": "python",
   "pygments_lexer": "ipython3",
   "version": "3.8.5"
  },
  "papermill": {
   "default_parameters": {},
   "duration": 12.463586,
   "end_time": "2021-05-11T03:04:46.415680",
   "environment_variables": {},
   "exception": null,
   "input_path": "Untitled.ipynb",
   "output_path": "./out/output.ipynb",
   "parameters": {
    "fecha_fin": "2021-04-15",
    "fecha_inicio": "20-01-2021"
   },
   "start_time": "2021-05-11T03:04:33.952094",
   "version": "2.3.3"
  }
 },
 "nbformat": 4,
 "nbformat_minor": 5
}