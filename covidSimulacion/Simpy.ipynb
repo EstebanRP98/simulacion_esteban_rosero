{
 "cells": [
  {
   "cell_type": "markdown",
   "metadata": {},
   "source": [
    "<h2> Examen de Simulacion </h2>\n",
    "Nombre: Esteban David Rosero Perez"
   ]
  },
  {
   "cell_type": "markdown",
   "metadata": {},
   "source": [
    "# Proyecto Simulacion SIMPY Plan Piloto Regreso a Clases"
   ]
  },
  {
   "cell_type": "markdown",
   "metadata": {},
   "source": [
    "Objetivos a tomar en cuenta en la simulacion"
   ]
  },
  {
   "cell_type": "markdown",
   "metadata": {},
   "source": [
    "•\tSolo se va a tener en cuanta uno de los planteles educativos(Escuela, colegio, universidad dentro del Azuay).<br>\n",
    "•\tSe tiene un promedio que el 90% de los docentes han sido vacunados y pueden realizar el proceso de ingreso en cada uno de los cursos.<br>\n",
    "•\tDentro del procesos se tiene que alrededor del 5% - 10% de los estudiantes no podrán asistir debido a no presentar la vacuna/enfermedades.<br>\n",
    "•\tLos estudiantes solo pertenecen a una sola entidad educativa al igual que los docentes.<br>\n",
    "•\tSe va  a tener un periodo de prueba de un mes, posterior a ello se realiza al azar al 10% de estudiantes una prueba PCR para validar que no estén contagiados.<br>\n",
    "•\tDe la ultima el 2% de los estudiantes dan positivo por lo que se cierra el curso completo.<br>\n",
    "•\tLos estudiantes asisten cada semana y estos están en un horario de 6 horas ya sea diurno o nocturno.<br>\n",
    "•\tTienen un receso 30 minutos dentro del establecimiento en donde se concentran todos los estudiantes y es un foco de contagio del 2%.<br>"
   ]
  },
  {
   "cell_type": "markdown",
   "metadata": {},
   "source": [
    "<h2> Introduccion </h2>\n",
    "El golpe económico de la crisis sanitaria del corona virus no va a ser cosa de semanas, sino de meses. Dentro de una de las etapas importantes posteriores a las elecciones presidenciales son la re activación de los pequeños comercios y/o centros educativos. Para ello se plantea realizar un modelo de simulación de eventos discretos que permita determinar cual son los principales factores para la re activación económica en el ingreso a las aulas de los estudiantes\n"
   ]
  },
  {
   "cell_type": "markdown",
   "metadata": {},
   "source": [
    "<h2>Observacion:</h2>\n",
    "Para la simulacion se ha dividido los tiempos de la simulacion a:<br>\n",
    "1 simulacion = 1 hora <br>\n",
    "tiempo de simulacion = 60 minutos * 24 horas * cantidad de estudiantes <br>"
   ]
  },
  {
   "cell_type": "markdown",
   "metadata": {},
   "source": [
    "<h2> Importamos las librerias </h2>"
   ]
  },
  {
   "cell_type": "code",
   "execution_count": 403,
   "metadata": {},
   "outputs": [],
   "source": [
    "import simpy\n",
    "import random\n",
    "import numpy\n",
    "import matplotlib.pyplot as pp"
   ]
  },
  {
   "cell_type": "markdown",
   "metadata": {},
   "source": [
    "# Simulacion\n",
    "Para la simulacion nosotros vamos a tomar en cuenta la unidad educativa madrid, en la cual asistiran 255 estudiantes, en ello lo tomaremos en cuenta para el proceso de simulacion, en el cual tendran un uso horario de la institucion de 6 horas repartidas entre las 3 primeras horas, un receso de 30 minutos y las 2:30 horas siguientes. "
   ]
  },
  {
   "cell_type": "markdown",
   "metadata": {},
   "source": [
    "<h2> Ingresamos los parametros Iniciales para la Simulacion</h2>"
   ]
  },
  {
   "cell_type": "code",
   "execution_count": 404,
   "metadata": {},
   "outputs": [],
   "source": [
    "inicio = 10\n",
    "tiempo_simulacion = 367200 # equivale al tiempo por dia en minutos (1440) por numero de estudiantes\n",
    "estudiantes=255\n",
    "docentes=30\n",
    "cursos=40\n",
    "dias=0"
   ]
  },
  {
   "cell_type": "markdown",
   "metadata": {},
   "source": [
    "<h2> Creamos la logica para la simulacion: </h2>\n",
    "Primero procedemos a crear la asignacion de estudiantes que pertenecen a ciertos cursos por lo cual generamos un metodo en el cual asigne aleatoriamente los estudiantes a los cursos."
   ]
  },
  {
   "cell_type": "code",
   "execution_count": 405,
   "metadata": {},
   "outputs": [],
   "source": [
    "estudiantesCursos = {}\n",
    "def estudiantesCursosList():\n",
    "    for i in range(estudiantes):\n",
    "        estudiantesCursos[i+1] = 'estudiante_{}'.format(i+1),random.randint(1,cursos)\n",
    "    return estudiantesCursos"
   ]
  },
  {
   "cell_type": "markdown",
   "metadata": {},
   "source": [
    "Despues procedemos a crear la logica que se va a manejar dentro de la simulacion, en la cual consistia en que cada uno de los estudiantes ingresan a la institucion, despues procede a las 3 primera horas, se toman un receso, llegan a las otras horas y se retiran a sus casas. Al final del plan piloto del mes, se procedera a realizar la prueba de pcr al 10% de estudiantes de forma aleatoria, si existen contagiados se cierran los cursos."
   ]
  },
  {
   "cell_type": "code",
   "execution_count": 406,
   "metadata": {},
   "outputs": [],
   "source": [
    "class procesoClases():\n",
    "    def __init__(self,entorno):\n",
    "        self.env = entorno\n",
    "\n",
    "    def llegada_curso(self,tiempo):\n",
    "        yield self.env.timeout(tiempo)\n",
    "\n",
    "    def entrada_primera_hora(self,tiempo):\n",
    "        yield self.env.timeout(tiempo)\n",
    "\n",
    "    def receso(self,tiempo):\n",
    "        yield self.env.timeout(tiempo)\n",
    "\n",
    "    def entrada_segunda_hora(self,tiempo):\n",
    "        yield self.env.timeout(tiempo)\n",
    "\n",
    "    def ir_a_casa(self,tiempo):\n",
    "        yield self.env.timeout(tiempo)\n",
    "        \n",
    "        \n",
    "    def prueba_pcr(self,listado):\n",
    "        estudiantes_pcr = []\n",
    "        for i in range(int(len(listado.keys()))):\n",
    "            if((random.randint(1,100))<=14):\n",
    "                estudiantes_pcr.append(i)\n",
    "        return estudiantes_pcr\n",
    "\n",
    "\n",
    "    def clases(self,persona):\n",
    "        ##print('Persona {} '.format(persona))\n",
    "        tiempo_llegada = random.uniform(0.016,0.032)\n",
    "        yield self.env.process(self.llegada_curso(tiempo_llegada))            \n",
    "        ##se mantienen en los cursos primeras horas\n",
    "        tiempo_primera_hora = 3 \n",
    "        yield self.env.process(self.entrada_primera_hora(tiempo_primera_hora))\n",
    "        ##receso\n",
    "        tiempo_receso = 0.5\n",
    "        yield self.env.process(self.receso(tiempo_receso))\n",
    "        tiempo_segunda_hora = 2.5 \n",
    "        yield self.env.process(self.entrada_segunda_hora(tiempo_segunda_hora))\n",
    "        ##se va a la casa\n",
    "        tiempo_en_casa = 18\n",
    "        yield self.env.process(self.ir_a_casa(tiempo_en_casa))\n",
    "            "
   ]
  },
  {
   "cell_type": "markdown",
   "metadata": {},
   "source": [
    "Procedemos a crear la clase simulacion, aqui nosotros declaramos el entorno que va a simular y en que tiempos queremos que se simule en nuestro caso, tomaremos en cuenta que se va realizar la simulacion por 30 dias y al dia 31 se procedera a realizar la prueba de pcr"
   ]
  },
  {
   "cell_type": "code",
   "execution_count": 407,
   "metadata": {},
   "outputs": [],
   "source": [
    "cerrarCursos = []\n",
    "contagiadosNuevo = []\n",
    "contagiosEstudiantes = []\n",
    "class Simulacion():\n",
    "    def ejecutar_simulacion(self,env,listadoEstudiantes):\n",
    "        proceso = procesoClases(env)\n",
    "        if dias < 31:\n",
    "            print('Entran {} estudiantes a clases'.format(len(listadoEstudiantes)))\n",
    "            for i in listadoEstudiantes.items():\n",
    "                yield env.process(proceso.clases(i))\n",
    "        else:\n",
    "            contagiadosNuevo = proceso.prueba_pcr(listadoEstudiantes)\n",
    "            contagiosEstudiantes.append(len(contagiadosNuevo))\n",
    "            for i in range(len(contagiadosNuevo)):\n",
    "                for j in range(int(len(listadoEstudiantes.keys()))):\n",
    "                    if(contagiadosNuevo[i]==j):\n",
    "                        cerrarCursos.append(listadoEstudiantes.get(j)[1])"
   ]
  },
  {
   "cell_type": "markdown",
   "metadata": {},
   "source": [
    "# Resultados"
   ]
  },
  {
   "cell_type": "markdown",
   "metadata": {},
   "source": [
    "Procedemos a simular y estos son los resultados:"
   ]
  },
  {
   "cell_type": "code",
   "execution_count": 408,
   "metadata": {},
   "outputs": [
    {
     "name": "stdout",
     "output_type": "stream",
     "text": [
      "DÍA 0 ++++++++++++\n",
      "Entran 255 estudiantes a clases\n",
      "DÍA 1 ++++++++++++\n",
      "Entran 255 estudiantes a clases\n",
      "DÍA 2 ++++++++++++\n",
      "Entran 255 estudiantes a clases\n",
      "DÍA 3 ++++++++++++\n",
      "Entran 255 estudiantes a clases\n",
      "DÍA 4 ++++++++++++\n",
      "Entran 255 estudiantes a clases\n",
      "DÍA 5 ++++++++++++\n",
      "Entran 255 estudiantes a clases\n",
      "DÍA 6 ++++++++++++\n",
      "Entran 255 estudiantes a clases\n",
      "DÍA 7 ++++++++++++\n",
      "Entran 255 estudiantes a clases\n",
      "DÍA 8 ++++++++++++\n",
      "Entran 255 estudiantes a clases\n",
      "DÍA 9 ++++++++++++\n",
      "Entran 255 estudiantes a clases\n",
      "DÍA 10 ++++++++++++\n",
      "Entran 255 estudiantes a clases\n",
      "DÍA 11 ++++++++++++\n",
      "Entran 255 estudiantes a clases\n",
      "DÍA 12 ++++++++++++\n",
      "Entran 255 estudiantes a clases\n",
      "DÍA 13 ++++++++++++\n",
      "Entran 255 estudiantes a clases\n",
      "DÍA 14 ++++++++++++\n",
      "Entran 255 estudiantes a clases\n",
      "DÍA 15 ++++++++++++\n",
      "Entran 255 estudiantes a clases\n",
      "DÍA 16 ++++++++++++\n",
      "Entran 255 estudiantes a clases\n",
      "DÍA 17 ++++++++++++\n",
      "Entran 255 estudiantes a clases\n",
      "DÍA 18 ++++++++++++\n",
      "Entran 255 estudiantes a clases\n",
      "DÍA 19 ++++++++++++\n",
      "Entran 255 estudiantes a clases\n",
      "DÍA 20 ++++++++++++\n",
      "Entran 255 estudiantes a clases\n",
      "DÍA 21 ++++++++++++\n",
      "Entran 255 estudiantes a clases\n",
      "DÍA 22 ++++++++++++\n",
      "Entran 255 estudiantes a clases\n",
      "DÍA 23 ++++++++++++\n",
      "Entran 255 estudiantes a clases\n",
      "DÍA 24 ++++++++++++\n",
      "Entran 255 estudiantes a clases\n",
      "DÍA 25 ++++++++++++\n",
      "Entran 255 estudiantes a clases\n",
      "DÍA 26 ++++++++++++\n",
      "Entran 255 estudiantes a clases\n",
      "DÍA 27 ++++++++++++\n",
      "Entran 255 estudiantes a clases\n",
      "DÍA 28 ++++++++++++\n",
      "Entran 255 estudiantes a clases\n",
      "DÍA 29 ++++++++++++\n",
      "Entran 255 estudiantes a clases\n",
      "DÍA 30 ++++++++++++\n",
      "Entran 255 estudiantes a clases\n",
      "DÍA 31 ++++++++++++\n"
     ]
    }
   ],
   "source": [
    "for i in range(32):\n",
    "    print('DÍA {} ++++++++++++'.format(i))\n",
    "    env = simpy.Environment()\n",
    "    simulacion = Simulacion()\n",
    "    env.process(simulacion.ejecutar_simulacion(env,estudiantesCursosList()))\n",
    "    env.run(until=tiempo_simulacion)\n",
    "    dias+=1"
   ]
  },
  {
   "cell_type": "code",
   "execution_count": 409,
   "metadata": {},
   "outputs": [
    {
     "name": "stdout",
     "output_type": "stream",
     "text": [
      "total de Estudiantes y docentes:\n",
      "285\n",
      "los estudiantes contagiados son:\n",
      "[25]\n",
      "los cursos contagiados son:\n",
      "{4, 5, 7, 9, 10, 11, 12, 16, 17, 18, 19, 22, 23, 25, 26, 28, 33, 34, 35, 36}\n"
     ]
    }
   ],
   "source": [
    "print('total de Estudiantes y docentes:')\n",
    "print(estudiantes+docentes)\n",
    "print('los estudiantes contagiados son:')\n",
    "print(contagiosEstudiantes)\n",
    "print('los cursos contagiados son:')\n",
    "print(set(cerrarCursos))"
   ]
  },
  {
   "cell_type": "code",
   "execution_count": 410,
   "metadata": {},
   "outputs": [
    {
     "data": {
      "image/png": "[encoded data removed]",
      "text/plain": [
       "<Figure size 432x288 with 1 Axes>"
      ]
     },
     "metadata": {},
     "output_type": "display_data"
    }
   ],
   "source": [
    "totalEstudiantes=int(len(estudiantesCursos.keys()))\n",
    "etiquetas = ['Estudiantes Sin Contagio', 'Estudiantes Contagiados']\n",
    "pp.pie([totalEstudiantes, contagiosEstudiantes[0]], labels=etiquetas, autopct=\"%0.1f %%\")\n",
    "pp.show()"
   ]
  },
  {
   "cell_type": "code",
   "execution_count": 411,
   "metadata": {},
   "outputs": [
    {
     "data": {
      "image/png": "[encoded data removed]",
      "text/plain": [
       "<Figure size 432x288 with 1 Axes>"
      ]
     },
     "metadata": {
      "needs_background": "light"
     },
     "output_type": "display_data"
    }
   ],
   "source": [
    "fig = pp.figure()\n",
    "ax = fig.add_axes([1,1,1,1])\n",
    "langs = ['Cursos', 'Cursos Cerrados']\n",
    "curso = [cursos,len(cerrarCursos)]\n",
    "ax.bar(langs,curso)\n",
    "pp.show()"
   ]
  },
  {
   "cell_type": "markdown",
   "metadata": {},
   "source": [
    "<h2>Conclusion </h2>\n",
    "Como podemos observar la cantidad de curso que se cierran es relativamente alta por que habiamos calculado que el porcentaje de contagio es el 2% en el receso por lo cual, entonces al hacer el calculo por 30 dias que es el plan piloto nos sale que es alrededor de 14% de contagio a nivel global de todos los recesos por lo que podemos observar que alrededor de 30 personas se contagiaron y la cantidad de cursos que se deben cerrar es de 25, por lo que es una cifra muy alta a tomar en cuenta con un rango de contagio muy bajo que es el 2%."
   ]
  },
  {
   "cell_type": "markdown",
   "metadata": {},
   "source": [
    "# Referencias\n",
    "https://educacion.gob.ec/wp-content/uploads/downloads/2012/08/AZUAY11.pdf"
   ]
  },
  {
   "cell_type": "code",
   "execution_count": null,
   "metadata": {},
   "outputs": [],
   "source": []
  }
 ],
 "metadata": {
  "kernelspec": {
   "display_name": "Python 3",
   "language": "python",
   "name": "python3"
  },
  "language_info": {
   "codemirror_mode": {
    "name": "ipython",
    "version": 3
   },
   "file_extension": ".py",
   "mimetype": "text/x-python",
   "name": "python",
   "nbconvert_exporter": "python",
   "pygments_lexer": "ipython3",
   "version": "3.8.5"
  }
 },
 "nbformat": 4,
 "nbformat_minor": 4
}
